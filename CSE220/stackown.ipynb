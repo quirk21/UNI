{
 "cells": [
  {
   "cell_type": "code",
   "execution_count": 50,
   "metadata": {},
   "outputs": [],
   "source": [
    "#  create stack\n",
    "\n",
    "import numpy as np\n",
    "\n",
    "class stack:\n",
    "    def __init__(self, elem = None, next = None) -> None:\n",
    "        self.elem, self.next = elem, next\n",
    "\n",
    "def create_stack(arr):\n",
    "    head = stack(arr[0])\n",
    "    temp = head\n",
    "    for i in range(1, len(arr)):\n",
    "        new = stack(arr[i])\n",
    "        new.next = temp\n",
    "        temp = new\n",
    "    return  temp\n",
    "\n",
    "def push(head,elem):\n",
    "    new = stack(elem)\n",
    "    new.next = head\n",
    "    head = new\n",
    "    print(\"added \",new.elem)\n",
    "    return head\n",
    "\n",
    "def pop(head):\n",
    "    print(\"poped \",head.elem)\n",
    "    return head.next\n",
    "\n",
    "def is_empty(head):\n",
    "    if head is None:\n",
    "        return True\n",
    "    else:\n",
    "        return False\n",
    "    \n",
    "def peek(head):\n",
    "    return head.elem\n",
    "\n",
    "def print_stack(head):\n",
    "    temp = head\n",
    "    while temp != None:\n",
    "        print(temp.elem)\n",
    "        temp = temp.next\n",
    "    print()\n",
    "    "
   ]
  },
  {
   "cell_type": "code",
   "execution_count": 51,
   "metadata": {},
   "outputs": [
    {
     "name": "stdout",
     "output_type": "stream",
     "text": [
      "5\n",
      "4\n",
      "3\n",
      "2\n",
      "1\n",
      "\n"
     ]
    }
   ],
   "source": [
    "# try stack\n",
    "head = create_stack(np.array([1,2,3,4,5]))\n",
    "# new = push(head, 3)\n",
    "# print(new.elem)\n",
    "# pop(new)\n",
    "# print(is_empty(new))\n",
    "# print(peek(new))\n",
    "print_stack(head)"
   ]
  },
  {
   "cell_type": "code",
   "execution_count": null,
   "metadata": {},
   "outputs": [],
   "source": [
    "# reverse without double\n",
    "def conditional_reverse(stack):\n",
    "    curr = None\n",
    "    prev = None\n",
    "\n",
    "    while not is_empty(stack):\n",
    "        curr = pop(stack)\n",
    "        if curr.elem != prev.elem :\n",
    "            curr.next = prev\n",
    "        else:\n",
    "            pass\n",
    "        prev = curr.next\n",
    "    \n",
    "    return curr\n",
    "\n",
    "\n",
    "\n",
    "stack_head = stack(np.array([10,10,10,20,20,30,10,50]))\n",
    "conditional_reverse(stack_head)"
   ]
  }
 ],
 "metadata": {
  "kernelspec": {
   "display_name": "Python 3",
   "language": "python",
   "name": "python3"
  },
  "language_info": {
   "codemirror_mode": {
    "name": "ipython",
    "version": 3
   },
   "file_extension": ".py",
   "mimetype": "text/x-python",
   "name": "python",
   "nbconvert_exporter": "python",
   "pygments_lexer": "ipython3",
   "version": "3.12.0"
  }
 },
 "nbformat": 4,
 "nbformat_minor": 2
}
