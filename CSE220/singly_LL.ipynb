{
 "cells": [
  {
   "cell_type": "code",
   "execution_count": 1,
   "metadata": {},
   "outputs": [],
   "source": [
    "#Run this cell\n",
    "import numpy as np\n",
    "\n",
    "class Node:\n",
    "  def __init__(self,elem,next = None):\n",
    "    self.elem,self.next = elem,next\n",
    "  \n",
    "\n",
    "def createList(arr):\n",
    "  head = Node(arr[0])\n",
    "  tail = head\n",
    "  for i in range(1,len(arr)):\n",
    "    newNode = Node(arr[i])\n",
    "    tail.next = newNode\n",
    "    tail = newNode\n",
    "  return head\n",
    "\n",
    "\n",
    "\n",
    "def printLinkedList(head):\n",
    "  temp = head\n",
    "  while temp != None:\n",
    "    if temp.next != None:\n",
    "      print(temp.elem, end = '-->')\n",
    "    else:\n",
    "      print(temp.elem)\n",
    "    temp = temp.next\n",
    "  print()\n",
    "\n",
    "\n",
    "def count(head):\n",
    "    temp = head\n",
    "    num = 0\n",
    "    while temp != None:\n",
    "        num += 1\n",
    "        temp = temp.next   \n",
    "    return num"
   ]
  },
  {
   "cell_type": "code",
   "execution_count": 2,
   "metadata": {},
   "outputs": [
    {
     "name": "stdout",
     "output_type": "stream",
     "text": [
      "1-->2-->3-->4-->5-->6-->7-->8-->9-->10\n",
      "\n",
      "10-->1-->2-->3-->4-->5-->6-->7-->8-->9\n",
      "\n"
     ]
    }
   ],
   "source": [
    "# rotate right\n",
    "def rotate_right(head):\n",
    "    # start\n",
    "    last = head.next\n",
    "    second_last = head\n",
    "\n",
    "    while last.next != None:\n",
    "        last = last.next\n",
    "        second_last = second_last.next\n",
    "\n",
    "    last.next = head\n",
    "    second_last.next = None\n",
    "    return last\n",
    "\n",
    "\n",
    "head = createList(np.array([1,2,3,4,5,6,7,8,9,10]))\n",
    "printLinkedList(head)\n",
    "printLinkedList(rotate_right(head))"
   ]
  },
  {
   "cell_type": "code",
   "execution_count": 3,
   "metadata": {},
   "outputs": [
    {
     "name": "stdout",
     "output_type": "stream",
     "text": [
      "1-->2-->3-->4-->5-->6-->7-->8-->9-->10\n",
      "\n",
      "2-->3-->4-->5-->6-->7-->8-->9-->10-->1\n",
      "\n"
     ]
    }
   ],
   "source": [
    "# rotate left \n",
    "def rotate_left(head):\n",
    "    # start\n",
    "    curr = head\n",
    "    second = head.next\n",
    "    \n",
    "    while curr.next != None:\n",
    "        curr = curr.next\n",
    "\n",
    "    curr.next = head\n",
    "    head.next = None\n",
    "\n",
    "    return second\n",
    "\n",
    "head = createList(np.array([1,2,3,4,5,6,7,8,9,10]))\n",
    "printLinkedList(head)\n",
    "printLinkedList(rotate_left(head))  "
   ]
  },
  {
   "cell_type": "code",
   "execution_count": 4,
   "metadata": {},
   "outputs": [
    {
     "name": "stdout",
     "output_type": "stream",
     "text": [
      "1-->2-->3-->4-->5-->6-->7-->8-->9-->10\n",
      "\n",
      "10-->9-->8-->7-->6-->5-->4-->3-->2-->1\n",
      "\n"
     ]
    }
   ],
   "source": [
    "# reverse\n",
    "def reverse(head):\n",
    "    # start\n",
    "    curr = head\n",
    "    prev = None\n",
    "\n",
    "    while curr.next != None:\n",
    "        temp = curr.next\n",
    "        curr.next = prev\n",
    "        prev = curr\n",
    "        curr = temp\n",
    "\n",
    "    curr.next = prev\n",
    "    return curr\n",
    "\n",
    "\n",
    "head = createList(np.array([1,2,3,4,5,6,7,8,9,10]))\n",
    "printLinkedList(head)\n",
    "printLinkedList(reverse(head))"
   ]
  },
  {
   "cell_type": "code",
   "execution_count": 5,
   "metadata": {},
   "outputs": [
    {
     "name": "stdout",
     "output_type": "stream",
     "text": [
      "1-->2-->3-->4-->5-->6-->7-->8\n",
      "\n",
      "8-->1-->7-->2-->6-->3-->5-->4\n",
      "\n"
     ]
    }
   ],
   "source": [
    "# first last merge\n",
    "def wierd_merge(head):\n",
    "    # start\n",
    "    curr = head\n",
    "    count = 0\n",
    "    tail = None\n",
    "    while curr != None:\n",
    "        tail = curr \n",
    "        curr = curr.next\n",
    "        count += 1\n",
    "\n",
    "    new = tail\n",
    "    curr = head\n",
    "    for i in range (count//2):\n",
    "        tail.next = curr\n",
    "        temp = curr\n",
    "\n",
    "        while temp.next != tail:\n",
    "            temp = temp.next\n",
    "        tail = temp \n",
    "\n",
    "        again = curr.next\n",
    "        curr.next = tail\n",
    "        curr = again \n",
    "    tail.next = None\n",
    "\n",
    "\n",
    "    return new\n",
    "\n",
    "\n",
    "head = createList(np.array([1,2,3,4,5,6,7,8]))\n",
    "printLinkedList(head)\n",
    "printLinkedList(wierd_merge(head))\n"
   ]
  },
  {
   "cell_type": "code",
   "execution_count": null,
   "metadata": {},
   "outputs": [],
   "source": []
  },
  {
   "cell_type": "code",
   "execution_count": 6,
   "metadata": {},
   "outputs": [
    {
     "name": "stdout",
     "output_type": "stream",
     "text": [
      "True\n",
      "===========\n",
      "===========\n",
      "===========\n",
      "False\n"
     ]
    }
   ],
   "source": [
    "# pair wise equal\n",
    "def pairWiseEqual(head1, head2):\n",
    "    # To Do\n",
    "    curr1 = head1.next\n",
    "    prev1 = head1\n",
    "    curr2 = head2.next\n",
    "    prev2 = head2\n",
    "\n",
    "    while curr1 is not None:\n",
    "\n",
    "        if (curr1.elem == curr2.elem and prev1.elem == prev2.elem) or (curr1.elem == prev2.elem and curr2.elem == prev1.elem):\n",
    "            pass\n",
    "        else:\n",
    "            return False\n",
    "        \n",
    "        if curr1.next is None:\n",
    "            break\n",
    "        else:\n",
    "            prev1, prev2, curr1, curr2 = prev1.next.next, prev2.next.next, curr1.next.next, curr2.next.next\n",
    "\n",
    "    return True \n",
    "\n",
    "\n",
    "head1 = createList(np.array([10,15,34,41]))\n",
    "head2 = createList(np.array([15,10,34,41]))\n",
    "print(pairWiseEqual(head1, head2))\n",
    "print(\"===========\")\n",
    "print(\"===========\")\n",
    "print(\"===========\")\n",
    "head1 = createList(np.array([10,15,34,42]))\n",
    "head2 = createList(np.array([15,10,34,41]))\n",
    "print(pairWiseEqual(head1, head2))"
   ]
  },
  {
   "cell_type": "code",
   "execution_count": 7,
   "metadata": {},
   "outputs": [
    {
     "name": "stdout",
     "output_type": "stream",
     "text": [
      "101-->103-->102-->104-->105\n",
      "\n",
      "=========\n",
      "102-->101-->103-->104\n",
      "\n",
      "=========\n"
     ]
    }
   ],
   "source": [
    "# remove duplicate\n",
    "def remove_duplicate(head):\n",
    "    curr = head\n",
    "    while curr != None:\n",
    "        prev = curr\n",
    "        temp = curr\n",
    "        while prev != None:\n",
    "            \n",
    "            if curr.elem == prev.elem:\n",
    "                temp.next = prev.next\n",
    "                prev = prev.next \n",
    "            else:\n",
    "                temp = prev\n",
    "                prev = prev.next\n",
    "\n",
    "        curr =curr.next\n",
    "                \n",
    "    return  head\n",
    "\n",
    "\n",
    "head = createList(np.array([101 ,103 ,101 ,102 ,103, 104 ,105, 105]))\n",
    "printLinkedList(remove_duplicate(head))\n",
    "print(\"=========\")\n",
    "head = createList(np.array([102 ,101 ,101 ,102 ,102,102 ,103 ,104 ,104]))\n",
    "printLinkedList(remove_duplicate(head))\n",
    "print(\"=========\")"
   ]
  },
  {
   "cell_type": "code",
   "execution_count": 8,
   "metadata": {},
   "outputs": [
    {
     "name": "stdout",
     "output_type": "stream",
     "text": [
      "True\n",
      "==========\n",
      "False\n",
      "==========\n",
      "False\n",
      "==========\n"
     ]
    }
   ],
   "source": [
    "# sum possible\n",
    "def is_sum_possible(head, num):\n",
    "    if head.next == None:\n",
    "        return False\n",
    "    else:\n",
    "        fix = head\n",
    "        while fix != None:\n",
    "            curr = fix.next\n",
    "            while curr != None:\n",
    "                if fix.elem + curr.elem == num:\n",
    "                    return True\n",
    "                curr = curr.next\n",
    "            fix = fix.next\n",
    "\n",
    "    return False\n",
    "\n",
    "head = createList(np.array([1,2,3,4,5]))\n",
    "print(is_sum_possible(head,4))\n",
    "print(\"==========\")\n",
    "head = createList(np.array([1,2,4,5,6]))\n",
    "print(is_sum_possible(head,4))\n",
    "print(\"==========\")\n",
    "head = createList(np.array([5]))\n",
    "print(is_sum_possible(head,5))\n",
    "print(\"==========\")"
   ]
  },
  {
   "cell_type": "code",
   "execution_count": 9,
   "metadata": {},
   "outputs": [],
   "source": [
    "# # sort a Linked list\n",
    "# def sort(head):\n",
    "#     # start\n",
    "#     curr = head\n",
    "#     num = count()\n",
    "#     count \n",
    "#     while curr != None:\n",
    "#         for i in \n",
    "        \n",
    "\n",
    "# head = createList(np.array([3,1,4,2,5,6,7,10,11,9]))\n",
    "# printLinkedList(head)\n",
    "# print(\"After sorting:\")\n",
    "# printLinkedList(head)"
   ]
  },
  {
   "cell_type": "code",
   "execution_count": 10,
   "metadata": {},
   "outputs": [],
   "source": [
    "# # Insert Element in a Sorted Linked List\n",
    "# def sort_insert(head, num):\n",
    "#     # start\n",
    "#     curr = head\n",
    "#     new = Node(num)\n",
    "    \n",
    "\n",
    "\n",
    "# head = createList(np.array([4,3,5,1,2,7,8,11,10]))\n",
    "# printLinkedList(head)\n",
    "# print(\"After sorting and adding the number:\")\n",
    "# printLinkedList(head)"
   ]
  },
  {
   "cell_type": "code",
   "execution_count": 11,
   "metadata": {},
   "outputs": [
    {
     "ename": "NameError",
     "evalue": "name 'doublyList' is not defined",
     "output_type": "error",
     "traceback": [
      "\u001b[1;31m---------------------------------------------------------------------------\u001b[0m",
      "\u001b[1;31mNameError\u001b[0m                                 Traceback (most recent call last)",
      "Cell \u001b[1;32mIn[11], line 2\u001b[0m\n\u001b[0;32m      1\u001b[0m \u001b[38;5;66;03m# doubly Linked List\u001b[39;00m\n\u001b[1;32m----> 2\u001b[0m head \u001b[38;5;241m=\u001b[39m \u001b[43mdoublyList\u001b[49m(np\u001b[38;5;241m.\u001b[39marray([\u001b[38;5;241m1\u001b[39m,\u001b[38;5;241m2\u001b[39m,\u001b[38;5;241m3\u001b[39m,\u001b[38;5;241m4\u001b[39m,\u001b[38;5;241m5\u001b[39m,\u001b[38;5;241m6\u001b[39m,\u001b[38;5;241m7\u001b[39m,\u001b[38;5;241m8\u001b[39m,\u001b[38;5;241m9\u001b[39m,\u001b[38;5;241m10\u001b[39m]))\n\u001b[0;32m      3\u001b[0m printLinkedList(head)\n\u001b[0;32m      4\u001b[0m curr \u001b[38;5;241m=\u001b[39m head\u001b[38;5;241m.\u001b[39mnext\n",
      "\u001b[1;31mNameError\u001b[0m: name 'doublyList' is not defined"
     ]
    }
   ],
   "source": [
    "# doubly Linked List\n",
    "head = doublyList(np.array([1,2,3,4,5,6,7,8,9,10]))\n",
    "printLinkedList(head)\n",
    "curr = head.next\n",
    "while curr != None:\n",
    "    print(curr.prev.elem)\n",
    "    curr = curr.next\n"
   ]
  },
  {
   "cell_type": "code",
   "execution_count": null,
   "metadata": {},
   "outputs": [
    {
     "name": "stdout",
     "output_type": "stream",
     "text": [
      "1\n",
      "2\n",
      "3\n",
      "4\n",
      "5\n",
      "6\n",
      "7\n",
      "8\n",
      "9\n",
      "10\n",
      "\n"
     ]
    }
   ],
   "source": [
    "# doubly circular linked list\n",
    "head = doubly_circular(np.array([1,2,3,4,5,6,7,8,9,10]))\n",
    "printcircularLinkedList(head)"
   ]
  },
  {
   "cell_type": "code",
   "execution_count": 13,
   "metadata": {},
   "outputs": [
    {
     "name": "stdout",
     "output_type": "stream",
     "text": [
      "70-->80-->90\n",
      "\n",
      "150-->90\n",
      "\n"
     ]
    }
   ],
   "source": [
    "def compress(head):\n",
    "    curr = head.next\n",
    "    prev = head\n",
    "    while curr != None:\n",
    "        if curr.elem<100 and prev.elem<100:\n",
    "            prev.elem = curr.elem+prev.elem\n",
    "        else:\n",
    "            prev = prev.next\n",
    "        curr = curr.next\n",
    "        prev.next = curr\n",
    "    return head\n",
    "\n",
    "head = createList(np.array([70,80,90]))\n",
    "printLinkedList(head)\n",
    "new = compress(head)\n",
    "printLinkedList(new)\n"
   ]
  },
  {
   "cell_type": "code",
   "execution_count": 18,
   "metadata": {},
   "outputs": [
    {
     "name": "stdout",
     "output_type": "stream",
     "text": [
      "A2-->A7-->A8-->A1-->A3-->A9-->A4\n",
      "\n",
      "\n",
      "A6-->A5-->A9-->A3-->A4-->A8\n",
      "\n"
     ]
    }
   ],
   "source": [
    "# summer 2024 final\n",
    "def rearrange_tokens(head, position):\n",
    "    count = 1\n",
    "    curr = head\n",
    "    while curr:\n",
    "        if count + 1 == position:\n",
    "            temp = curr.next \n",
    "            curr.next = None\n",
    "            curr = temp\n",
    "            break\n",
    "        curr = curr.next \n",
    "        count += 1 \n",
    "    \n",
    "    new = curr\n",
    "    while curr.next:\n",
    "        curr = curr.next\n",
    "    curr.next = head\n",
    "    return new\n",
    "\n",
    "head = createList(np.array([\"A3\", \"A9\" ,\"A4\" ,\"A2\" ,\"A7\" ,\"A8\",\"A1\"]))\n",
    "printLinkedList(rearrange_tokens(head,4))\n",
    "print()\n",
    "head = createList(np.array([\"A9\", \"A3\" ,\"A4\" ,\"A8\" ,\"A6\" ,\"A5\"]))\n",
    "printLinkedList(rearrange_tokens(head,5))"
   ]
  },
  {
   "cell_type": "code",
   "execution_count": null,
   "metadata": {},
   "outputs": [],
   "source": []
  }
 ],
 "metadata": {
  "kernelspec": {
   "display_name": "Python 3",
   "language": "python",
   "name": "python3"
  },
  "language_info": {
   "codemirror_mode": {
    "name": "ipython",
    "version": 3
   },
   "file_extension": ".py",
   "mimetype": "text/x-python",
   "name": "python",
   "nbconvert_exporter": "python",
   "pygments_lexer": "ipython3",
   "version": "3.12.0"
  }
 },
 "nbformat": 4,
 "nbformat_minor": 2
}
