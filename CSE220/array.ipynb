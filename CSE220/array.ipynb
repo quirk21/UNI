{
 "cells": [
  {
   "cell_type": "code",
   "execution_count": 3,
   "metadata": {},
   "outputs": [],
   "source": [
    "# You must run this cell to print matrix and for the driver code to work\n",
    "def print_matrix(m):\n",
    "    row, col = m.shape\n",
    "    for i in range(row):\n",
    "        c = 1\n",
    "        print('|', end='')\n",
    "        for j in range(col):\n",
    "            c += 1\n",
    "            if (len(str(m[i][j])) == 1):\n",
    "                print(' ', m[i][j], end='  |')\n",
    "                c += 6\n",
    "            else:\n",
    "                print(' ', m[i][j], end=' |')\n",
    "                c += 6\n",
    "        print()\n",
    "    print('-'*(c-col))"
   ]
  },
  {
   "cell_type": "code",
   "execution_count": 4,
   "metadata": {},
   "outputs": [
    {
     "name": "stdout",
     "output_type": "stream",
     "text": [
      "[[14 22]\n",
      " [ 2 10]]\n"
     ]
    }
   ],
   "source": [
    "# compresed 2d matrix\n",
    "import numpy as np\n",
    "def compress_matrix (mat):\n",
    "    # To Do\n",
    "    new = np.zeros((len(mat)//2,len(mat[0])//2),int)\n",
    "    for i in range(0, len(mat), 2):\n",
    "        for j in range(0, len(mat[i]), 2):\n",
    "            new[i // 2][j // 2] = mat[i][j] + mat[i][j+1] + mat[i+1][j] + mat[i+1][j+1]\n",
    "\n",
    "    return new\n",
    "\n",
    "arr = np.array([\n",
    "[1, 2, 3, 4],\n",
    "[5, 6, 7, 8],\n",
    "[1, 3, 5, 2],\n",
    "[-2, 0, 6,-3]\n",
    "])\n",
    "\n",
    "print(compress_matrix(arr))"
   ]
  },
  {
   "cell_type": "code",
   "execution_count": null,
   "metadata": {},
   "outputs": [
    {
     "name": "stdout",
     "output_type": "stream",
     "text": [
      "|  1  |  2  |  3  |  4  |\n",
      "|  5  |  6  |  7  |  8  |\n",
      "|  9  |  10 |  11 |  12 |\n",
      "|  13 |  14 |  15 |  16 |\n",
      "-------------------------\n"
     ]
    }
   ],
   "source": [
    "def rotate(mat):\n",
    "    for i in range(len(mat)+1):\n",
    "        \n",
    "\n",
    "arr = np.array([[1,2,3,4],[5,6,7,8],[9,10,11,12],[13,14,15,16]])\n",
    "rotate(arr)\n",
    "print_matrix(arr)"
   ]
  },
  {
   "cell_type": "code",
   "execution_count": null,
   "metadata": {},
   "outputs": [],
   "source": []
  }
 ],
 "metadata": {
  "kernelspec": {
   "display_name": "Python 3",
   "language": "python",
   "name": "python3"
  },
  "language_info": {
   "codemirror_mode": {
    "name": "ipython",
    "version": 3
   },
   "file_extension": ".py",
   "mimetype": "text/x-python",
   "name": "python",
   "nbconvert_exporter": "python",
   "pygments_lexer": "ipython3",
   "version": "3.12.0"
  }
 },
 "nbformat": 4,
 "nbformat_minor": 2
}
