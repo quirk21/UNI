{
  "cells": [
    {
      "cell_type": "markdown",
      "metadata": {
        "id": "YLpnDfK4egmI"
      },
      "source": [
        "**Instructions to Follow (Failing to follow these will result mark deductions).**\n",
        "1. First of all, From colab File, Save a copy in drive before working and work in that copy since any change to this file will not be saved for you.\n",
        "2. You can not use any built-in function except len()\n",
        "\n",
        "3. You can not use any other python collections except array (e.g: tuple, dictionaries etc.).\n",
        "\n",
        "4. We will initialize a new array using numpy library. We have to mention the fixed size during initialization. There might be 4 approaches.\n",
        "\n",
        " i. arr = np.array([None] * 10) #Initializing an array length 10 with values None.\n",
        "\n",
        " ii. arr = np.array([0] * 10) #Initializing an array length 10 with values zero.\n",
        "\n",
        " iii. arr = np.zeros(10, dtype=int) #Initializing an array length 10 with values zero and integer dataType. By default, dtype is float.\n",
        "\n",
        " iv. arr = np.array([10, 20, 30, 40]) #Initializing an array length 4 with the values.\n",
        "\n"
      ]
    },
    {
      "cell_type": "code",
      "execution_count": null,
      "metadata": {
        "id": "rSkZFFD4ej5o",
        "colab": {
          "base_uri": "https://localhost:8080/"
        },
        "outputId": "a5529604-b4ed-461f-a72f-01b29b68fe46"
      },
      "outputs": [
        {
          "output_type": "stream",
          "name": "stdout",
          "text": [
            "Requirement already satisfied: fhm-unittest in /usr/local/lib/python3.10/dist-packages (1.0.1)\n",
            "Requirement already satisfied: fuzzywuzzy in /usr/local/lib/python3.10/dist-packages (0.18.0)\n"
          ]
        }
      ],
      "source": [
        "# You must run this cell to install dependency\n",
        "! pip3 install fhm-unittest\n",
        "! pip3 install fuzzywuzzy\n",
        "import fhm_unittest as unittest\n",
        "import numpy as np"
      ]
    },
    {
      "cell_type": "markdown",
      "metadata": {
        "id": "z-BkkdfjgR6P"
      },
      "source": [
        "You will see the status Accepted after completion if your code is correct.\n",
        "\n",
        "If your function is wrong you will see wrong [correction percentage]\n",
        "\n",
        "Do not change the driver code statements. You can only change the input values to test your code."
      ]
    },
    {
      "cell_type": "code",
      "execution_count": null,
      "metadata": {
        "id": "fknrEodfUb5M"
      },
      "outputs": [],
      "source": [
        "# You must run this cell to print matrix and for the driver code to work\n",
        "def print_matrix(m):\n",
        "    row, col = m.shape\n",
        "    for i in range(row):\n",
        "        c = 1\n",
        "        print('|', end='')\n",
        "        for j in range(col):\n",
        "            c += 1\n",
        "            if (len(str(m[i][j])) == 1):\n",
        "                print(' ', m[i][j], end='  |')\n",
        "                c += 6\n",
        "            else:\n",
        "                print(' ', m[i][j], end=' |')\n",
        "                c += 6\n",
        "        print()\n",
        "    print('-'*(c-col))"
      ]
    },
    {
      "cell_type": "code",
      "execution_count": null,
      "metadata": {
        "id": "ZVbY0rzKgRgC",
        "colab": {
          "base_uri": "https://localhost:8080/"
        },
        "outputId": "7bc7c3e3-6993-4b4c-f601-5b8d4108cf7b"
      },
      "outputs": [
        {
          "output_type": "stream",
          "name": "stdout",
          "text": [
            "///  Task 01: Merge Lineup  ///\n",
            "Task 1: [12  3 28 -8  5]\n",
            "Accepted\n",
            "Task 1: [ 4 17  6 27  2]\n",
            "Accepted\n"
          ]
        }
      ],
      "source": [
        "# Task 01: Merge Lineup\n",
        "\n",
        "def mergeLineup(pokemon_1, pokemon_2):\n",
        "\n",
        "    new_pokemon = np.zeros(len(pokemon_1), int)\n",
        "\n",
        "    for i in range(0, len(pokemon_1)):\n",
        "        if pokemon_1[i] == None:\n",
        "            pokemon_1[i] = 0\n",
        "\n",
        "        if pokemon_2[len(pokemon_2)-1-i] == None:\n",
        "            pokemon_2[len(pokemon_2)-1-i] = 0\n",
        "\n",
        "        new_pokemon[i] = pokemon_1[i] + pokemon_2[len(pokemon_2)-1-i]\n",
        "\n",
        "    return new_pokemon\n",
        "\n",
        "\n",
        "print(\"///  Task 01: Merge Lineup  ///\")\n",
        "pokemon_1 = np.array([12, 3, 25, 1, None])\n",
        "pokemon_2 = np.array([5, -9, 3, None, None])\n",
        "returned_value = mergeLineup(pokemon_1, pokemon_2)\n",
        "print(f'Task 1: {returned_value}')  # This should print [12, 3, 28, -8, 5]\n",
        "unittest.output_test(returned_value, np.array([12, 3, 28, -8, 5]))\n",
        "pokemon_1 = np.array([4, 5, -1, None, None])\n",
        "pokemon_2 = np.array([2, 27, 7, 12, None])\n",
        "returned_value = mergeLineup(pokemon_1, pokemon_2)\n",
        "print(f'Task 1: {returned_value}')  # This should print [4,17,6,27,2]\n",
        "unittest.output_test(returned_value, np.array([4, 17, 6, 27, 2]))"
      ]
    },
    {
      "cell_type": "code",
      "execution_count": null,
      "metadata": {
        "id": "rzaysRSshRbM",
        "outputId": "7bda2865-f653-4708-9fca-50975e9135ae",
        "colab": {
          "base_uri": "https://localhost:8080/"
        }
      },
      "outputs": [
        {
          "output_type": "stream",
          "name": "stdout",
          "text": [
            "///  Task 02: Discard Cards  ///\n",
            "Task 2: [1 3 7 5 2 2 0 0 0]\n",
            "Accepted\n",
            "Task 2: [5 0 0 0 0]\n",
            "Accepted\n"
          ]
        }
      ],
      "source": [
        "# Task 02: Discard Cards\n",
        "\n",
        "def discardCards(arr, number):\n",
        "    count = 0\n",
        "    for i in range(len(arr)):\n",
        "        if arr[i] == number:\n",
        "\n",
        "            if count % 2 == 0 :\n",
        "                arr[i] = 0\n",
        "            count+=1\n",
        "\n",
        "\n",
        "    for i in range(len(arr)):\n",
        "        if arr[i] == 0:\n",
        "            for j in range(i, len(arr)-1):\n",
        "                arr[j] = arr[j+1]\n",
        "            arr[-1] = 0\n",
        "\n",
        "    return arr\n",
        "\n",
        "\n",
        "print(\"///  Task 02: Discard Cards  ///\")\n",
        "cards = np.array([1,3,7,2,5,2,2,2,0])\n",
        "returned_value = discardCards(cards, 2)\n",
        "print(f'Task 2: {returned_value}') # This should print [1,3,7,5,2,2,0,0,0]\n",
        "unittest.output_test(returned_value, np.array([1,3,7,5,2,2,0,0,0]))\n",
        "\n",
        "cards = np.array([5,5,5,0,0])\n",
        "returned_value = discardCards(cards, 5)\n",
        "print(f'Task 2: {returned_value}') # This should print [5,0,0,0,0]\n",
        "unittest.output_test(returned_value, np.array([5,0,0,0,0]))"
      ]
    },
    {
      "cell_type": "code",
      "execution_count": null,
      "metadata": {
        "id": "mxufE5rfVEJM",
        "outputId": "f930571b-9eff-4edb-f443-b45f3670f2c4",
        "colab": {
          "base_uri": "https://localhost:8080/"
        }
      },
      "outputs": [
        {
          "output_type": "stream",
          "name": "stdout",
          "text": [
            "[-13   1]\n"
          ]
        }
      ],
      "source": [
        "#Task 03: Decryption Process\n",
        "\n",
        "\n",
        "def decrypt_matrix(matrix):\n",
        "    col = np.zeros(len(matrix[0]),int)\n",
        "\n",
        "    for j in range(len(col)):\n",
        "        for i in range(len(matrix)):\n",
        "            col[j] += matrix[i][j]\n",
        "    result = np.zeros(len(col)-1,int)\n",
        "\n",
        "    for i in range(len(result),0,-1):\n",
        "        result[i-1] = col[i] - col[i-1]\n",
        "\n",
        "    return result\n",
        "\n",
        "matrix=np.array([[1,3,1],\n",
        "                 [6,4,2],\n",
        "                 [5,1,7],\n",
        "                 [9,3,3],\n",
        "                 [8,5,4]\n",
        "                 ])\n",
        "\n",
        "returned_array=decrypt_matrix(matrix)\n",
        "print(returned_array)\n",
        "#This should print [-13, 1]"
      ]
    },
    {
      "cell_type": "code",
      "execution_count": null,
      "metadata": {
        "id": "CYtNF5M8itbB",
        "outputId": "378b633d-8349-4bac-edc5-13574a6543d2",
        "colab": {
          "base_uri": "https://localhost:8080/"
        }
      },
      "outputs": [
        {
          "output_type": "stream",
          "name": "stdout",
          "text": [
            "|  3  |  8  |  4  |  6  |  1  |\n",
            "|  7  |  2  |  1  |  9  |  3  |\n",
            "|  9  |  0  |  7  |  5  |  8  |\n",
            "|  2  |  1  |  3  |  4  |  0  |\n",
            "|  1  |  4  |  2  |  8  |  6  |\n",
            "-------------------------------\n",
            "Walking Sequence:\n",
            "3 9 1 \n",
            "1 2 \n",
            "4 7 2 \n",
            "4 9 \n",
            "1 8 6 \n",
            "################\n",
            "|  3  |  8  |  4  |  6  |  1  |\n",
            "|  7  |  2  |  1  |  9  |  3  |\n",
            "|  9  |  0  |  7  |  5  |  8  |\n",
            "|  2  |  1  |  3  |  4  |  0  |\n",
            "-------------------------------\n",
            "Walking Sequence:\n",
            "3 9 \n",
            "1 2 \n",
            "4 7 \n",
            "4 9 \n",
            "1 8 \n"
          ]
        }
      ],
      "source": [
        "# Task 04: Zigzag Walk\n",
        "\n",
        "\n",
        "def walk_zigzag(arr):\n",
        "\n",
        "    new = np.zeros(len(arr)*len(arr[0]),int)\n",
        "    way = True\n",
        "    count = 0\n",
        "\n",
        "    for i in range(len(arr[0])):\n",
        "\n",
        "        if way:\n",
        "            for j in range(len(arr)):\n",
        "                new[count] = arr[j][i]\n",
        "                count += 1\n",
        "            way = False\n",
        "\n",
        "        else:\n",
        "            for j in range(len(arr)-1,-1,-1):\n",
        "                new[count] = arr[j][i]\n",
        "                count += 1\n",
        "            way = True\n",
        "\n",
        "    for i in range(len(new)):\n",
        "        if i % 2 == 0:\n",
        "            print(new[i] , end=' ')\n",
        "\n",
        "        if i % len(arr) == len(arr)-1:\n",
        "                print()\n",
        "\n",
        "\n",
        "    return None\n",
        "\n",
        "floor = np.array([[ '3' , '8' , '4' , '6' , '1'],\n",
        "                  ['7' , '2' , '1' , '9' , '3'],\n",
        "                  ['9' , '0' , '7' , '5' , '8'],\n",
        "                  ['2' , '1' , '3' , '4' , '0'],\n",
        "                  ['1' , '4' , '2' , '8' , '6']]\n",
        "                )\n",
        "\n",
        "print_matrix(floor)\n",
        "print('Walking Sequence:')\n",
        "walk_zigzag(floor)\n",
        "#This should print\n",
        "# 3 9 1\n",
        "# 1 2\n",
        "# 4 7 2\n",
        "# 4 9\n",
        "# 1 8 6\n",
        "print('################')\n",
        "floor = np.array([[ '3' , '8' , '4' , '6' , '1'],\n",
        "                  ['7' , '2' , '1' , '9' , '3'],\n",
        "                  ['9' , '0' , '7' , '5' , '8'],\n",
        "                  ['2' , '1' , '3' , '4' , '0']]\n",
        "                )\n",
        "\n",
        "print_matrix(floor)\n",
        "print('Walking Sequence:')\n",
        "walk_zigzag(floor)\n",
        "#This should print\n",
        "# 3 9\n",
        "# 1 2\n",
        "# 4 7\n",
        "# 4 9\n",
        "# 1 8"
      ]
    },
    {
      "cell_type": "code",
      "execution_count": null,
      "metadata": {
        "id": "SzBe-ByVmV8G",
        "outputId": "b00323fe-3c53-4356-fdba-54e8420efaea",
        "colab": {
          "base_uri": "https://localhost:8080/"
        }
      },
      "outputs": [
        {
          "output_type": "stream",
          "name": "stdout",
          "text": [
            "|  A  |  B  |  C  |  D  |  E  |\n",
            "|  F  |  G  |  H  |  I  |  J  |\n",
            "|  K  |  L  |  M  |  N  |  O  |\n",
            "|  P  |  Q  |  R  |  S  |  T  |\n",
            "|  U  |  V  |  W  |  X  |  Y  |\n",
            "|  Z  |  AA |  BB |  CC |  DD |\n",
            "-------------------------------\n",
            "\n",
            "|  U  |  V  |  W  |  X  |  Y  |\n",
            "|  Z  |  AA |  BB |  CC |  DD |\n",
            "|  A  |  B  |  C  |  D  |  E  |\n",
            "|  F  |  G  |  H  |  I  |  J  |\n",
            "|  K  |  L  |  M  |  N  |  O  |\n",
            "|  P  |  Q  |  R  |  S  |  T  |\n",
            "-------------------------------\n",
            "Your friend AA will be on row 2\n"
          ]
        }
      ],
      "source": [
        "# Task 05: Row Rotation Policy of BRACU Classroom\n",
        "def row_rotation(week, arr):\n",
        "\n",
        "    i = 1\n",
        "    while i<week:\n",
        "\n",
        "        new = np.empty(len(arr[0]), dtype=arr.dtype)\n",
        "\n",
        "        for num in range(len(arr[-1])):\n",
        "            new[num] = arr[-1][num]\n",
        "\n",
        "        for j in range(len(arr)-1,0,-1):\n",
        "            arr[j] = arr[j-1]\n",
        "\n",
        "        arr[0] = new\n",
        "\n",
        "        i += 1\n",
        "\n",
        "    print_matrix(arr)\n",
        "\n",
        "    place = 0\n",
        "    for i in range(1,len(arr)+1):\n",
        "        if \"AA\" in arr[i-1]:\n",
        "            place = i\n",
        "\n",
        "\n",
        "    return place\n",
        "\n",
        "seat_status = np.array([[ 'A' , 'B' , 'C' , 'D' , 'E'],\n",
        "                  ['F' , 'G' , 'H' , 'I' , 'J'],\n",
        "                  ['K' , 'L' , 'M' , 'N' , 'O'],\n",
        "                  ['P' , 'Q' , 'R' , 'S' , 'T'],\n",
        "                  ['U' , 'V' , 'W' , 'X' , 'Y'],\n",
        "                  ['Z' , 'AA' , 'BB' , 'CC' , 'DD']])\n",
        "exam_week=3\n",
        "print_matrix(seat_status)\n",
        "print()\n",
        "row_number=row_rotation(exam_week, seat_status) #This should print modified seat status after rotation\n",
        "print(f'Your friend AA will be on row {row_number}') #This should print Your friend AA will be on row 2"
      ]
    },
    {
      "cell_type": "code",
      "execution_count": null,
      "metadata": {
        "id": "Oi7AXojBEayT",
        "colab": {
          "base_uri": "https://localhost:8080/"
        },
        "outputId": "96aad765-1591-438f-a751-8a90405fa718"
      },
      "outputs": [
        {
          "output_type": "stream",
          "name": "stdout",
          "text": [
            "|  1  |  2  |  3  |  4  |\n",
            "|  5  |  6  |  7  |  8  |\n",
            "|  1  |  3  |  5  |  2  |\n",
            "|  -2 |  0  |  6  |  -3 |\n",
            "-------------------------\n",
            "...............\n",
            "|  14 |  22 |\n",
            "|  2  |  10 |\n",
            "-------------\n"
          ]
        }
      ],
      "source": [
        "#Task 06: Matrix Compression\n",
        "\n",
        "def compress_matrix(mat):\n",
        "  #TO DO\n",
        "    new = np.zeros((len(mat)//2,len(mat[0])//2),int)\n",
        "\n",
        "    for i in range(0,len(mat),2):\n",
        "\n",
        "        for  j in range(0,len(mat[i]),2):\n",
        "\n",
        "            new[i // 2][j // 2] += mat[i][j] + mat[i][j + 1] + mat[i + 1][j] + mat[i + 1][j + 1]\n",
        "\n",
        "    return new\n",
        "\n",
        "\n",
        "matrix=np.array([[1,2,3,4],\n",
        "                 [5,6,7,8],\n",
        "                 [1,3,5,2],\n",
        "                 [-2,0,6,-3]\n",
        "                 ])\n",
        "print_matrix(matrix)\n",
        "print(\"...............\")\n",
        "returned_array=compress_matrix(matrix)\n",
        "print_matrix(returned_array)\n",
        "#This should print\n",
        "\n",
        "#|  14  |  22 |\n",
        "#--------------\n",
        "#|  2  |  10  |\n",
        "#--------------"
      ]
    },
    {
      "cell_type": "code",
      "execution_count": null,
      "metadata": {
        "id": "sTJ7GNezm6uu",
        "colab": {
          "base_uri": "https://localhost:8080/"
        },
        "outputId": "3a1162ef-ad68-45f6-e0fb-a567b4d7d25e"
      },
      "outputs": [
        {
          "output_type": "stream",
          "name": "stdout",
          "text": [
            "0 2 2 0\n",
            "50 1 2 0\n",
            "2 2 2 0\n",
            "1 100 2 0\n",
            "Points Gained: 6. Your team is out.\n",
            ".....................\n",
            "0 2 2 0 2\n",
            "1 50 2 1 100\n",
            "2 2 2 0 2\n",
            "0 200 2 0 0\n",
            "Points Gained: 14. Your team has survived the game.\n"
          ]
        }
      ],
      "source": [
        "#Task 07: Game Arena\n",
        "\n",
        "def play_game(arena):\n",
        "  #TO DO\n",
        "    total = 0\n",
        "    for i in range(len(arena)):\n",
        "        for j in range(len(arena[i])):\n",
        "\n",
        "            if arena[i][j] != 0 and arena[i][j] % 50 == 0:\n",
        "\n",
        "                if j>0 and arena[i][j-1] == 2  :\n",
        "                    total += 2\n",
        "                if j<len(arena[i])-1 and arena[i][j+1] == 2 :\n",
        "                    total += 2\n",
        "                if  i>0 and arena[i-1][j] == 2  :\n",
        "                    total += 2\n",
        "                if i<len(arena)-1 and arena[i+1][j] == 2 :\n",
        "                    total += 2\n",
        "\n",
        "    if total < 10:\n",
        "        print(f\"Points Gained: {total}. Your team is out.\")\n",
        "    else:\n",
        "        print(f\"Points Gained: {total}. Your team has survived the game.\")\n",
        "    return None\n",
        "\n",
        "\n",
        "arena=np.array([[0,2,2,0],\n",
        "                [50,1,2,0],\n",
        "                [2,2,2,0],\n",
        "                [1,100,2,0]\n",
        "                ])\n",
        "print_matrix(arena)\n",
        "play_game(arena)\n",
        "#This should print\n",
        "#Points Gained: 6. Your team is out.\n",
        "\n",
        "print(\".....................\")\n",
        "arena=np.array([[0,2,2,0,2],\n",
        "                [1,50,2,1,100],\n",
        "                [2,2,2,0,2],\n",
        "                [0,200,2,0,0]\n",
        "                ])\n",
        "print_matrix(arena)\n",
        "play_game(arena)\n",
        "#This should print\n",
        "#Points Gained: 14. Your team has survived the game."
      ]
    }
  ],
  "metadata": {
    "colab": {
      "provenance": []
    },
    "kernelspec": {
      "display_name": "Python 3",
      "name": "python3"
    },
    "language_info": {
      "codemirror_mode": {
        "name": "ipython",
        "version": 3
      },
      "file_extension": ".py",
      "mimetype": "text/x-python",
      "name": "python",
      "nbconvert_exporter": "python",
      "pygments_lexer": "ipython3",
      "version": "3.12.0"
    }
  },
  "nbformat": 4,
  "nbformat_minor": 0
}