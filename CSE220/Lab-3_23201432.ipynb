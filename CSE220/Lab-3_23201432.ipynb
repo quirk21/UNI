{
 "cells": [
  {
   "cell_type": "code",
   "execution_count": 1,
   "metadata": {
    "id": "Pp1R95Pe7ID2"
   },
   "outputs": [],
   "source": [
    "# You must run this cell to install dependency\n",
    "#! pip3 install fhm-unittest\n",
    "#! pip3 install fuzzywuzzy\n",
    "import fhm_unittest as unittest\n",
    "import numpy as np"
   ]
  },
  {
   "cell_type": "markdown",
   "metadata": {
    "id": "A1zD8GyBKEdA"
   },
   "source": [
    "**Assignment Part 1: Doubly Linked List**"
   ]
  },
  {
   "cell_type": "markdown",
   "metadata": {
    "id": "z4q4a-vSNoII"
   },
   "source": [
    "For Assignment Part 1, you should write your full code in the following cells along with your driver codes on your own."
   ]
  },
  {
   "cell_type": "code",
   "execution_count": 2,
   "metadata": {
    "id": "itoWpG7oNziA"
   },
   "outputs": [],
   "source": [
    "#Assignment Part 1\n",
    "\n",
    "class Patient:\n",
    "\n",
    "    def __init__(self, id, name, age, blood, prev = None, next = None):\n",
    "        self.id, self.name, self.age, self.blood = id, name, age, blood\n",
    "        self.prev = prev\n",
    "        self.next = next "
   ]
  },
  {
   "cell_type": "code",
   "execution_count": 3,
   "metadata": {
    "id": "dNx7zTJ1OZNv"
   },
   "outputs": [],
   "source": [
    "class WRM:\n",
    "  #write a constructor\n",
    "  def __init__(self):\n",
    "    self.head=Patient(None,None,None,None,None,None)\n",
    "    self.head.next=self.head\n",
    "    self.head.prev=self.head\n",
    "\n",
    "\n",
    "  def registerPatient(self,id, name, age, bloodgroup):\n",
    "    #To \n",
    "    print(\"Registration loadinng......\")\n",
    "    new = Patient(id, name, age, bloodgroup)\n",
    "    last = self.head.prev\n",
    "    last.next = new\n",
    "    new.prev = last\n",
    "    new.next = self.head\n",
    "    self.head.prev = new\n",
    "\n",
    "\n",
    "  def servePatient(self):\n",
    "    #To Do\n",
    "    print(\"Serving.......\")\n",
    "    if self.head.next == self.head:\n",
    "      print(\"No paitent to serve in WRM\")\n",
    "    else:\n",
    "      temp = self.head.next\n",
    "      self.head.next = temp.next\n",
    "      temp.next.prev = self.head\n",
    "      print(f\"{temp.name} is served\")\n",
    "\n",
    "\n",
    "\n",
    "  def showAllPatient(self):\n",
    "    #To Do\n",
    "    print(\"showing all paitent......\")\n",
    "    if self.head.next == self.head:\n",
    "        print(\"No paitent in WRM\")\n",
    "    else:\n",
    "        temp = self.head.next\n",
    "        while temp != self.head:\n",
    "            print(temp.name, end = \" \")\n",
    "            temp =temp.next\n",
    "\n",
    "  def canDoctorGoHome(self):\n",
    "    #To Do\n",
    "    print(\"Can the doctor go to home?\")\n",
    "    if self.head.next == self.head:\n",
    "      print(\"-YES\")\n",
    "    else:\n",
    "      print(\"-NO\")\n",
    "\n",
    "  def cancelAll(self):\n",
    "    #To Do\n",
    "    print(\"Cancelling all apointments\")\n",
    "    self.head.next=self.head\n",
    "    self.head.prev=self.head\n",
    "\n",
    "  def ReverseTheLine(self):\n",
    "    #To Do\n",
    "    print(\"Reversing the line.....\")\n",
    "    if self.head.next == self.head:\n",
    "            print(\"No patients to reverse.\")\n",
    "            return\n",
    "    curr = self.head.next\n",
    "    prev = self.head\n",
    "\n",
    "    while curr != self.head:\n",
    "      temp = curr.next\n",
    "      curr.next = prev\n",
    "      prev.prev = curr \n",
    "      prev = curr\n",
    "      curr = temp\n",
    "    \n",
    "    curr.next = prev\n",
    "    prev.prev = curr \n",
    "\n",
    "\n",
    "\n"
   ]
  },
  {
   "cell_type": "code",
   "execution_count": 4,
   "metadata": {
    "id": "jKhbn1LAPfjr"
   },
   "outputs": [
    {
     "name": "stdout",
     "output_type": "stream",
     "text": [
      "**Welcome to Waiting Room Management System**\n",
      "\n",
      "==Choose an option==\n",
      "1. registerPaitent()\n",
      "2. servePaitent()\n",
      "3. cancelAll()\n",
      "4. canDoctorGoHome()\n",
      "5. showAllPaitent()\n",
      "6. reverseTheLine()\n",
      "7. exit\n",
      "=====================\n",
      "\n"
     ]
    }
   ],
   "source": [
    "#Write a Tester Code in this cell\n",
    "print(\"**Welcome to Waiting Room Management System**\")\n",
    "hospital = WRM()\n",
    "while True:\n",
    "    print()\n",
    "    print(\"==Choose an option==\")\n",
    "    print(\"1. registerPaitent()\")\n",
    "    print(\"2. servePaitent()\")\n",
    "    print(\"3. cancelAll()\")\n",
    "    print(\"4. canDoctorGoHome()\")\n",
    "    print(\"5. showAllPaitent()\")\n",
    "    print(\"6. reverseTheLine()\")\n",
    "    print(\"7. exit\")\n",
    "    print(\"=====================\")\n",
    "    print()\n",
    "\n",
    "    user = input(\"Enter an option: \")\n",
    "    if user == '1':\n",
    "        id = input(\"Enter id: \")\n",
    "        name = input(\"Enter name: \")\n",
    "        age = input(\"Enter age: \")\n",
    "        blood = input(\"Enter blood group: \")\n",
    "        \n",
    "        hospital.registerPatient(id,name,age,blood)\n",
    "\n",
    "    elif user == '2':\n",
    "        hospital.servePatient()\n",
    "\n",
    "    elif user == '5':\n",
    "        hospital.showAllPatient()\n",
    "\n",
    "    elif user == '3':\n",
    "        hospital.cancelAll()\n",
    "\n",
    "    elif user == '4':\n",
    "        hospital.canDoctorGoHome()\n",
    "\n",
    "    elif user == '6':\n",
    "        hospital.ReverseTheLine()\n",
    "\n",
    "    else:\n",
    "        break\n",
    "        "
   ]
  },
  {
   "cell_type": "markdown",
   "metadata": {
    "id": "CJWd_j6YEnPn"
   },
   "source": [
    "**Assignment Part 2: Stack**\n",
    "\n",
    "Linked List based Stack is implemented in the following cell."
   ]
  },
  {
   "cell_type": "code",
   "execution_count": 5,
   "metadata": {
    "id": "KHLhs5x0D-O6"
   },
   "outputs": [],
   "source": [
    "class Node:\n",
    "  def __init__(self,elem=None,next=None):\n",
    "    self.elem = elem\n",
    "    self.next = next\n",
    "\n",
    "class Stack:\n",
    "  def __init__(self):\n",
    "    self.__top = None\n",
    "\n",
    "  def push(self,elem):\n",
    "    nn = Node(elem,self.__top)\n",
    "    self.__top = nn\n",
    "\n",
    "  def pop(self):\n",
    "    if self.__top == None:\n",
    "      #print('Stack Underflow')\n",
    "      return None\n",
    "    e = self.__top\n",
    "    self.__top = self.__top.next\n",
    "    return e.elem\n",
    "\n",
    "  def peek(self):\n",
    "    if self.__top == None:\n",
    "      #print('Stack Underflow')\n",
    "      return None\n",
    "    return self.__top.elem\n",
    "\n",
    "  def isEmpty(self):\n",
    "    return self.__top == None\n"
   ]
  },
  {
   "cell_type": "code",
   "execution_count": 6,
   "metadata": {
    "id": "4XkuMA7gEjE7"
   },
   "outputs": [
    {
     "name": "stdout",
     "output_type": "stream",
     "text": [
      "Peeked Element:  9\n",
      "Popped Element:  9\n",
      "Popped Element:  1\n",
      "Popped Element:  5\n",
      "Peeked Element:  3\n",
      "Popped Element:  3\n",
      "Popped Element:  4\n",
      "Peeked Element:  None\n",
      "Popped Element:  None\n",
      "True\n"
     ]
    }
   ],
   "source": [
    "#You can run this driver code cell to understand the methods of Stack class\n",
    "st = Stack()\n",
    "st.push(4)\n",
    "st.push(3)\n",
    "st.push(5)\n",
    "st.push(1)\n",
    "st.push(9)\n",
    "\n",
    "print('Peeked Element: ',st.peek())\n",
    "print('Popped Element: ',st.pop())\n",
    "print('Popped Element: ',st.pop())\n",
    "print('Popped Element: ',st.pop())\n",
    "print('Peeked Element: ',st.peek())\n",
    "print('Popped Element: ',st.pop())\n",
    "print('Popped Element: ',st.pop())\n",
    "print('Peeked Element: ',st.peek())\n",
    "print('Popped Element: ',st.pop())\n",
    "print(st.isEmpty())"
   ]
  },
  {
   "cell_type": "markdown",
   "metadata": {
    "id": "xrfONLccG9Gi"
   },
   "source": [
    "You can print your stack using this code segment"
   ]
  },
  {
   "cell_type": "code",
   "execution_count": 13,
   "metadata": {
    "id": "S-EembO_GsWA"
   },
   "outputs": [
    {
     "name": "stdout",
     "output_type": "stream",
     "text": [
      "| 9  |\n",
      "| 1  |\n",
      "| 5  |\n",
      "| 3  |\n",
      "| 4  |\n",
      "------\n"
     ]
    }
   ],
   "source": [
    "def print_stack(st):\n",
    "  if st.isEmpty():\n",
    "    return\n",
    "  p = st.pop()\n",
    "  print('|',p,end=' ')\n",
    "  if p<10:\n",
    "    print(' |')\n",
    "  else:\n",
    "    print('|')\n",
    "  #print('------')\n",
    "  print_stack(st)\n",
    "  st.push(p)\n",
    "\n",
    "st = Stack()\n",
    "st.push(4)\n",
    "st.push(3)\n",
    "st.push(5)\n",
    "st.push(1)\n",
    "st.push(9)\n",
    "print_stack(st)\n",
    "print('------')"
   ]
  },
  {
   "cell_type": "markdown",
   "metadata": {
    "id": "iNMnfqqpIga2"
   },
   "source": [
    "Task 1: Diamond Count"
   ]
  },
  {
   "cell_type": "code",
   "execution_count": 8,
   "metadata": {
    "id": "GnX70OIvG_gZ"
   },
   "outputs": [
    {
     "name": "stdout",
     "output_type": "stream",
     "text": [
      "Test 01\n",
      "Number of Diamonds: 3\n",
      "Accepted\n",
      "-----------------------------------------\n",
      "Test 02\n",
      "Number of Diamonds: 1\n",
      "Accepted\n",
      "-----------------------------------------\n",
      "Test 03\n",
      "Number of Diamonds: 3\n",
      "Accepted\n",
      "-----------------------------------------\n"
     ]
    }
   ],
   "source": [
    "def diamond_count(stack,string):\n",
    "    #TO DO\n",
    "    count = 0\n",
    "    for i in string:\n",
    "        if i != '.':\n",
    "            if i == '<':\n",
    "                stack.push(i)\n",
    "            else:\n",
    "                if not stack.isEmpty():\n",
    "                    stack.pop()\n",
    "                    count += 1\n",
    "    return count\n",
    "\n",
    "\n",
    "print('Test 01')\n",
    "stack = Stack()\n",
    "string = '<..><.<..>> '\n",
    "returned_value = diamond_count(stack,string)\n",
    "print(f'Number of Diamonds: {returned_value}') #This should print 3\n",
    "unittest.output_test(returned_value, 3)\n",
    "print('-----------------------------------------')\n",
    "\n",
    "\n",
    "print('Test 02')\n",
    "stack = Stack()\n",
    "string = '<<<..<......<<<<....>'\n",
    "returned_value = diamond_count(stack,string)\n",
    "print(f'Number of Diamonds: {returned_value}') #This should print 1\n",
    "unittest.output_test(returned_value, 1)\n",
    "print('-----------------------------------------')\n",
    "\n",
    "\n",
    "print('Test 03')\n",
    "stack = Stack()\n",
    "string = '>>><...<<..>>...>...>>>'\n",
    "returned_value = diamond_count(stack,string)\n",
    "print(f'Number of Diamonds: {returned_value}') #This should print 3\n",
    "unittest.output_test(returned_value, 3)\n",
    "print('-----------------------------------------')"
   ]
  },
  {
   "cell_type": "markdown",
   "metadata": {
    "id": "PhCF3SZ6IX5g"
   },
   "source": [
    "Task 2: Tower of Blocks"
   ]
  },
  {
   "cell_type": "code",
   "execution_count": 9,
   "metadata": {
    "id": "W3N4q7YAHExr"
   },
   "outputs": [
    {
     "name": "stdout",
     "output_type": "stream",
     "text": [
      "Test 01\n",
      "Stack:\n",
      "| 5  |\n",
      "| 17 |\n",
      "| 23 |\n",
      "| 19 |\n",
      "| 4  |\n",
      "------\n",
      "After Removal\n",
      "| 5  |\n",
      "| 23 |\n",
      "| 19 |\n",
      "| 4  |\n",
      "------\n",
      "\n",
      "======================================\n",
      "\n",
      "Test 02\n",
      "Stack:\n",
      "| 41 |\n",
      "| 15 |\n",
      "| 85 |\n",
      "| 73 |\n",
      "------\n",
      "After Removal\n",
      "| 41 |\n",
      "| 15 |\n",
      "| 73 |\n",
      "------\n",
      "\n",
      "======================================\n",
      "\n"
     ]
    }
   ],
   "source": [
    "def remove_block(stack, n):\n",
    "    new = Stack()\n",
    "    for i in range(1,n+1):\n",
    "        if i == n:\n",
    "            stack.pop()\n",
    "        else:\n",
    "            temp = stack.pop()\n",
    "            new.push(temp)\n",
    "    while not new.isEmpty():\n",
    "        stack.push(new.pop())\n",
    "        \n",
    "\n",
    "\n",
    "print('Test 01')\n",
    "st = Stack()\n",
    "st.push(4)\n",
    "st.push(19)\n",
    "st.push(23)\n",
    "st.push(17)\n",
    "st.push(5)\n",
    "print('Stack:')\n",
    "print_stack(st)\n",
    "print('------')\n",
    "remove_block(st,2)\n",
    "print('After Removal')\n",
    "print_stack(st)\n",
    "print('------')\n",
    "\n",
    "print()\n",
    "print('======================================')\n",
    "print()\n",
    "\n",
    "print('Test 02')\n",
    "st = Stack()\n",
    "st.push(73)\n",
    "st.push(85)\n",
    "st.push(15)\n",
    "st.push(41)\n",
    "print('Stack:')\n",
    "print_stack(st)\n",
    "print('------')\n",
    "remove_block(st,3)\n",
    "print('After Removal')\n",
    "print_stack(st)\n",
    "print('------')\n",
    "\n",
    "print()\n",
    "print('======================================')\n",
    "print()"
   ]
  },
  {
   "cell_type": "markdown",
   "metadata": {
    "id": "jcngRuqUWOfl"
   },
   "source": [
    "Task 3: Stack Reverse"
   ]
  },
  {
   "cell_type": "code",
   "execution_count": 10,
   "metadata": {
    "id": "gLSgfDKPWPnP"
   },
   "outputs": [
    {
     "name": "stdout",
     "output_type": "stream",
     "text": [
      "Test 01\n",
      "Stack:\n",
      "| 50 |\n",
      "| 10 |\n",
      "| 30 |\n",
      "| 20 |\n",
      "| 20 |\n",
      "| 10 |\n",
      "| 10 |\n",
      "------\n",
      "Conditional Reversed Stack:\n",
      "| 10 |\n",
      "| 20 |\n",
      "| 30 |\n",
      "| 10 |\n",
      "| 50 |\n",
      "------\n"
     ]
    }
   ],
   "source": [
    "def conditional_reverse(stack):\n",
    "    new = Stack()\n",
    "    while not stack.isEmpty():\n",
    "        temp = stack.pop()\n",
    "        if temp != new.peek():\n",
    "            new.push(temp)\n",
    "    return new\n",
    "\n",
    "\n",
    "print('Test 01')\n",
    "st=Stack()\n",
    "st.push(10)\n",
    "st.push(10)\n",
    "st.push(20)\n",
    "st.push(20)\n",
    "st.push(30)\n",
    "st.push(10)\n",
    "st.push(50)\n",
    "print('Stack:')\n",
    "print_stack(st)\n",
    "print('------')\n",
    "reversed_stack=conditional_reverse(st)\n",
    "print('Conditional Reversed Stack:')\n",
    "print_stack(reversed_stack) # This stack contains 50, 10, 30, 20, 10 in this order whereas top element should be 10\n",
    "print('------')"
   ]
  }
 ],
 "metadata": {
  "colab": {
   "provenance": []
  },
  "kernelspec": {
   "display_name": "Python 3",
   "name": "python3"
  },
  "language_info": {
   "codemirror_mode": {
    "name": "ipython",
    "version": 3
   },
   "file_extension": ".py",
   "mimetype": "text/x-python",
   "name": "python",
   "nbconvert_exporter": "python",
   "pygments_lexer": "ipython3",
   "version": "3.12.0"
  }
 },
 "nbformat": 4,
 "nbformat_minor": 0
}
