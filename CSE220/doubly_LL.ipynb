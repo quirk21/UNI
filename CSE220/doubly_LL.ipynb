{
 "cells": [
  {
   "cell_type": "code",
   "execution_count": null,
   "metadata": {},
   "outputs": [],
   "source": [
    "import numpy as np\n",
    "\n",
    "\n",
    "class doubly_Node:\n",
    "  def __init__(self, elem, prev = None, next = None):\n",
    "    self.elem, self.prev, self.next = elem, prev, next\n",
    "\n",
    "def doublyList(arr):\n",
    "    head = doubly_Node(arr[0])\n",
    "    curr = head\n",
    "    for i in range(1,len(arr)):\n",
    "        newNode = doubly_Node(arr[i])\n",
    "        newNode.prev = curr\n",
    "        curr.next = newNode\n",
    "        curr = curr.next\n",
    "    return head\n",
    "\n",
    "def doubly_circular(arr):\n",
    "    head = doubly_Node(arr[0])\n",
    "    curr = head\n",
    "    for i in range(1,len(arr)):\n",
    "        newNode = doubly_Node(arr[i])\n",
    "        newNode.prev = curr\n",
    "        curr.next = newNode\n",
    "        curr = curr.next\n",
    "    curr.next = head\n",
    "    head.prev = curr\n",
    "    return head\n",
    "\n",
    "def printcircularLinkedList(head):\n",
    "    curr  = head.next \n",
    "    print(head.elem)\n",
    "    while curr != head:\n",
    "        print(curr.elem)\n",
    "        curr = curr.next\n",
    "    print()\n"
   ]
  },
  {
   "cell_type": "code",
   "execution_count": null,
   "metadata": {},
   "outputs": [],
   "source": []
  },
  {
   "cell_type": "code",
   "execution_count": null,
   "metadata": {},
   "outputs": [],
   "source": []
  }
 ],
 "metadata": {
  "kernelspec": {
   "display_name": "Python 3",
   "language": "python",
   "name": "python3"
  },
  "language_info": {
   "codemirror_mode": {
    "name": "ipython",
    "version": 3
   },
   "file_extension": ".py",
   "mimetype": "text/x-python",
   "name": "python",
   "nbconvert_exporter": "python",
   "pygments_lexer": "ipython3",
   "version": "3.12.0"
  }
 },
 "nbformat": 4,
 "nbformat_minor": 2
}
