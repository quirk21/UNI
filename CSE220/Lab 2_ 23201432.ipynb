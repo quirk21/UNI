{
 "cells": [
  {
   "cell_type": "markdown",
   "metadata": {
    "id": "4LYYhNdvi03h"
   },
   "source": [
    "\n",
    "\n",
    "1.   Be careful in which question you are required to change the given Linked list and where you are required to create a new one\n",
    "2.   Be careful of the first node and the last node [aka corner cases]\n",
    "3.   Do not use any other data structure other than Linked List\n",
    "\n"
   ]
  },
  {
   "cell_type": "markdown",
   "metadata": {
    "id": "v8m-0O9Pi9ET"
   },
   "source": [
    "**You must run this cell to install dependency**"
   ]
  },
  {
   "cell_type": "code",
   "execution_count": 3,
   "metadata": {
    "id": "3vZHyMlVi0cs"
   },
   "outputs": [],
   "source": [
    "#! pip3 install fhm-unittest\n",
    "#! pip3 install fuzzywuzzy\n",
    "import fhm_unittest as unittest\n",
    "import numpy as np"
   ]
  },
  {
   "cell_type": "markdown",
   "metadata": {
    "id": "b7eLAb26jNlR"
   },
   "source": [
    "**You must Run this cell for your driver code to execute successfully**"
   ]
  },
  {
   "cell_type": "code",
   "execution_count": 2,
   "metadata": {
    "id": "Yvtwdm02iNbm"
   },
   "outputs": [],
   "source": [
    "#Run this cell\n",
    "class Node:\n",
    "  def __init__(self,elem,next = None):\n",
    "    self.elem,self.next = elem,next\n",
    "\n",
    "def createList(arr):\n",
    "  head = Node(arr[0])\n",
    "  tail = head\n",
    "  for i in range(1,len(arr)):\n",
    "    newNode = Node(arr[i])\n",
    "    tail.next = newNode\n",
    "    tail = newNode\n",
    "  return head\n",
    "\n",
    "def printLinkedList(head):\n",
    "  temp = head\n",
    "  while temp != None:\n",
    "    if temp.next != None:\n",
    "      print(temp.elem, end = '-->')\n",
    "    else:\n",
    "      print(temp.elem)\n",
    "    temp = temp.next\n",
    "  print()\n",
    "\n",
    "\n"
   ]
  },
  {
   "cell_type": "code",
   "execution_count": 4,
   "metadata": {
    "id": "lxYdJnwVblFJ"
   },
   "outputs": [],
   "source": [
    "# my own functions\n",
    "\n",
    "def count(head):\n",
    "    temp = head\n",
    "    num = 0\n",
    "    while temp != None:\n",
    "        num += 1\n",
    "        temp = temp.next   \n",
    "    return num\n",
    "\n",
    "\n",
    "# ll = createList(np.array(['Red', 'Green', 'Yellow', 'Red', 'Blue', 'Green']))\n",
    "# print(count(ll))"
   ]
  },
  {
   "cell_type": "markdown",
   "metadata": {
    "id": "YcFhPJxPjcfl"
   },
   "source": [
    "Task 1: Building Blocks"
   ]
  },
  {
   "cell_type": "code",
   "execution_count": 5,
   "metadata": {
    "id": "QU2I53-4jWSo"
   },
   "outputs": [
    {
     "name": "stdout",
     "output_type": "stream",
     "text": [
      "==============Test Case 1=============\n",
      "Building 1:  Red-->Green-->Yellow-->Red-->Blue-->Green\n",
      "\n",
      "Building 2:  Red-->Green-->Yellow-->Red-->Blue-->Green\n",
      "\n",
      "Similar\n",
      "Accepted\n",
      "\n",
      "==============Test Case 2=============\n",
      "Building 1:  Red-->Green-->Yellow-->Red-->Yellow-->Green\n",
      "\n",
      "Building 2:  Red-->Green-->Yellow-->Red-->Blue-->Green\n",
      "\n",
      "Not Similar\n",
      "Accepted\n",
      "\n",
      "==============Test Case 3=============\n",
      "Building 1:  Red-->Green-->Yellow-->Red-->Blue-->Green\n",
      "\n",
      "Building 2:  Red-->Green-->Yellow-->Red-->Blue-->Green-->Blue\n",
      "\n",
      "Not Similar\n",
      "Accepted\n",
      "\n",
      "==============Test Case 4=============\n",
      "Building 1:  Red-->Green-->Yellow-->Red-->Blue-->Green-->Blue\n",
      "\n",
      "Building 2:  Red-->Green-->Yellow-->Red-->Blue-->Green\n",
      "\n",
      "Not Similar\n",
      "Accepted\n",
      "\n"
     ]
    }
   ],
   "source": [
    "def check_similar(building_1, building_2):\n",
    "  #TO DO\n",
    "    temp1 = building_1\n",
    "    temp2 = building_2\n",
    "    flag = \"Similar\"\n",
    "\n",
    "    if count(building_1) != count(building_2):\n",
    "        flag = \"Not Similar\" \n",
    "    else:\n",
    "        while temp1.next != None:\n",
    "            if temp1.elem != temp2.elem:\n",
    "                flag = \"Not Similar\"\n",
    "                break       \n",
    "            temp1 = temp1.next\n",
    "            temp2 = temp2.next\n",
    "\n",
    "    return flag\n",
    "    \n",
    "\n",
    "\n",
    "print('==============Test Case 1=============')\n",
    "building_1 = createList(np.array(['Red', 'Green', 'Yellow', 'Red', 'Blue', 'Green']))\n",
    "building_2 = createList(np.array(['Red', 'Green', 'Yellow', 'Red', 'Blue', 'Green']))\n",
    "print('Building 1: ', end = ' ')\n",
    "printLinkedList(building_1)\n",
    "print('Building 2: ', end = ' ')\n",
    "printLinkedList(building_2)\n",
    "returned_value = check_similar(building_1, building_2)\n",
    "print(returned_value) #This should print 'Similar'\n",
    "unittest.output_test(returned_value, 'Similar')\n",
    "print()\n",
    "\n",
    "print('==============Test Case 2=============')\n",
    "building_1 = createList(np.array(['Red', 'Green', 'Yellow', 'Red', 'Yellow', 'Green']))\n",
    "building_2 = createList(np.array(['Red', 'Green', 'Yellow', 'Red', 'Blue', 'Green']))\n",
    "print('Building 1: ', end = ' ')\n",
    "printLinkedList(building_1)\n",
    "print('Building 2: ', end = ' ')\n",
    "printLinkedList(building_2)\n",
    "returned_value = check_similar(building_1, building_2)\n",
    "print(returned_value) #This should print 'Not Similar'\n",
    "unittest.output_test(returned_value, 'Not Similar')\n",
    "print()\n",
    "\n",
    "print('==============Test Case 3=============')\n",
    "building_1 = createList(np.array(['Red', 'Green', 'Yellow', 'Red', 'Blue', 'Green']))\n",
    "building_2 = createList(np.array(['Red', 'Green', 'Yellow', 'Red', 'Blue', 'Green', 'Blue']))\n",
    "print('Building 1: ', end = ' ')\n",
    "printLinkedList(building_1)\n",
    "print('Building 2: ', end = ' ')\n",
    "printLinkedList(building_2)\n",
    "returned_value = check_similar(building_1, building_2)\n",
    "print(returned_value) #This should print 'Not Similar'\n",
    "unittest.output_test(returned_value, 'Not Similar')\n",
    "print()\n",
    "\n",
    "print('==============Test Case 4=============')\n",
    "building_1 = createList(np.array(['Red', 'Green', 'Yellow', 'Red', 'Blue', 'Green', 'Blue']))\n",
    "building_2 = createList(np.array(['Red', 'Green', 'Yellow', 'Red', 'Blue', 'Green']))\n",
    "print('Building 1: ', end = ' ')\n",
    "printLinkedList(building_1)\n",
    "print('Building 2: ', end = ' ')\n",
    "printLinkedList(building_2)\n",
    "returned_value = check_similar(building_1, building_2)\n",
    "print(returned_value) #This should print 'Not Similar'\n",
    "unittest.output_test(returned_value, 'Not Similar')\n",
    "print()"
   ]
  },
  {
   "cell_type": "markdown",
   "metadata": {
    "id": "KXf5NwHJjrga"
   },
   "source": [
    "Task 2: Remove Compartment"
   ]
  },
  {
   "cell_type": "code",
   "execution_count": 10,
   "metadata": {
    "id": "RZFDGPlGkC9M"
   },
   "outputs": [
    {
     "name": "stdout",
     "output_type": "stream",
     "text": [
      "==============Test Case 1=============\n",
      "Original Compartment Sequence:  10-->15-->34-->41-->56-->72\n",
      "\n",
      "Changed Compartment Sequence:  10-->15-->34-->41-->72\n",
      "\n",
      "\n",
      "==============Test Case 2=============\n",
      "Original Compartment Sequence:  10-->15-->34-->41-->56-->72\n",
      "\n",
      "Changed Compartment Sequence:  10-->15-->34-->41-->56-->72\n",
      "\n",
      "\n",
      "==============Test Case 3=============\n",
      "Original Compartment Sequence:  10-->15-->34-->41-->56-->72\n",
      "\n",
      "Changed Compartment Sequence:  15-->34-->41-->56-->72\n",
      "\n",
      "\n"
     ]
    }
   ],
   "source": [
    "def remove_compartment(head,n):\n",
    "  #TO DO\n",
    "\n",
    "    if count(head) < n:\n",
    "        return head\n",
    "    \n",
    "    elif count(head) == n:\n",
    "        head = head.next\n",
    "        return head\n",
    "    \n",
    "    else:\n",
    "        temp = head\n",
    "        prev = None\n",
    "        for i in range(count(head)-n):\n",
    "            prev = temp\n",
    "            temp = temp.next\n",
    "\n",
    "        temp = temp.next\n",
    "        prev.next = temp\n",
    "\n",
    "        return head \n",
    "\n",
    "\n",
    "\n",
    "\n",
    "print('==============Test Case 1=============')\n",
    "head = createList(np.array([10,15,34,41,56,72]))\n",
    "print('Original Compartment Sequence: ', end = ' ')\n",
    "printLinkedList(head)\n",
    "head = remove_compartment(head,2)\n",
    "print('Changed Compartment Sequence: ', end = ' ')\n",
    "printLinkedList(head) #This should print 10-->15-->34-->41-->72\n",
    "print()\n",
    "print('==============Test Case 2=============')\n",
    "head = createList(np.array([10,15,34,41,56,72]))\n",
    "print('Original Compartment Sequence: ', end = ' ')\n",
    "printLinkedList(head)\n",
    "head = remove_compartment(head,7)\n",
    "print('Changed Compartment Sequence: ', end = ' ')\n",
    "printLinkedList(head) #This should print 10-->15-->34-->41-->56-->72\n",
    "print()\n",
    "print('==============Test Case 3=============')\n",
    "head = createList(np.array([10,15,34,41,56,72]))\n",
    "print('Original Compartment Sequence: ', end = ' ')\n",
    "printLinkedList(head)\n",
    "head = remove_compartment(head,6)\n",
    "print('Changed Compartment Sequence: ', end = ' ')\n",
    "printLinkedList(head) #This should print 15-->34-->41-->56-->72\n",
    "print()"
   ]
  },
  {
   "cell_type": "markdown",
   "metadata": {
    "id": "1ru-53ewkgET"
   },
   "source": [
    "Task 3: Assemble Conga Line"
   ]
  },
  {
   "cell_type": "code",
   "execution_count": 11,
   "metadata": {
    "id": "el2Iqez0kmfD"
   },
   "outputs": [
    {
     "name": "stdout",
     "output_type": "stream",
     "text": [
      "==============Test Case 1=============\n",
      "Original Conga Line:  10-->15-->34-->41-->56-->72\n",
      "\n",
      "True\n",
      "Accepted\n",
      "\n",
      "==============Test Case 2=============\n",
      "Original Conga Line:  10-->15-->44-->41-->56-->72\n",
      "\n",
      "False\n",
      "Accepted\n",
      "\n"
     ]
    }
   ],
   "source": [
    "def assemble_conga_line(conga_line):\n",
    "  #TO DO\n",
    "    temp = conga_line\n",
    "\n",
    "    while temp.next != None:\n",
    "        if temp.elem > temp.next.elem:\n",
    "            return False\n",
    "        temp = temp.next\n",
    "        \n",
    "    return True\n",
    "        \n",
    "        \n",
    "\n",
    "\n",
    "print('==============Test Case 1=============')\n",
    "conga_line = createList(np.array([10,15,34,41,56,72]))\n",
    "print('Original Conga Line: ', end = ' ')\n",
    "printLinkedList(conga_line)\n",
    "returned_value = assemble_conga_line(conga_line)\n",
    "print(returned_value) #This should print True\n",
    "unittest.output_test(returned_value, True)\n",
    "print()\n",
    "print('==============Test Case 2=============')\n",
    "conga_line = createList(np.array([10,15,44,41,56,72]))\n",
    "print('Original Conga Line: ', end = ' ')\n",
    "printLinkedList(conga_line)\n",
    "returned_value = assemble_conga_line(conga_line)\n",
    "print(returned_value) #This should print False\n",
    "unittest.output_test(returned_value, False)\n",
    "print()"
   ]
  },
  {
   "cell_type": "markdown",
   "metadata": {
    "id": "iD_ytSvbloPy"
   },
   "source": [
    "Task 4: Word Decoder"
   ]
  },
  {
   "cell_type": "code",
   "execution_count": 14,
   "metadata": {
    "id": "PU6PxoNllxdf"
   },
   "outputs": [
    {
     "name": "stdout",
     "output_type": "stream",
     "text": [
      "==============Test Case 1=============\n",
      "Encoded Word:\n",
      "B-->M-->D-->T-->N-->O-->A-->P-->S-->C\n",
      "\n",
      "Decoded Word:\n",
      "None-->C-->A-->T\n",
      "\n",
      "==============Test Case 2=============\n",
      "Encoded Word:\n",
      "Z-->O-->T-->N-->X\n",
      "\n",
      "Decoded Word:\n",
      "None-->N\n",
      "\n"
     ]
    }
   ],
   "source": [
    "def word_Decoder(head):\n",
    "  #To Do\n",
    "    legnth = count(head)\n",
    "    num = 13 % legnth\n",
    "    newLL = Node(None)\n",
    "    tail = None\n",
    "    temp = head\n",
    "    \n",
    "    for i in range(legnth):\n",
    "        \n",
    "        if i != 0 and i % num == 0:\n",
    "            new = Node(temp.elem)            \n",
    "            new.next = tail\n",
    "            tail = new\n",
    "            \n",
    "        temp = temp.next\n",
    "       \n",
    "    newLL.next = tail\n",
    "    return newLL\n",
    "    \n",
    "\n",
    "\n",
    "#Driver Code\n",
    "print('==============Test Case 1=============')\n",
    "head = createList(np.array(['B', 'M', 'D', 'T', 'N', 'O', 'A', 'P', 'S', 'C']))\n",
    "print(\"Encoded Word:\")\n",
    "printLinkedList(head) #This should print B→M→D→T→N→O→A→P→S→C\n",
    "\n",
    "result = word_Decoder(head)\n",
    "print(\"Decoded Word:\")\n",
    "printLinkedList(result)    #This should print None→C→A→T\n",
    "\n",
    "print('==============Test Case 2=============')\n",
    "\n",
    "head = createList(np.array(['Z', 'O', 'T', 'N', 'X']))\n",
    "print(\"Encoded Word:\")\n",
    "printLinkedList(head) #This should print Z→O→T→N→X\n",
    "\n",
    "result = word_Decoder(head)\n",
    "print(\"Decoded Word:\")\n",
    "printLinkedList(result)    #This should print None→N\n",
    "\n"
   ]
  },
  {
   "cell_type": "markdown",
   "metadata": {
    "id": "KH4qPwI-nIN4"
   },
   "source": [
    "Task 5: Alternate Merge"
   ]
  },
  {
   "cell_type": "code",
   "execution_count": 15,
   "metadata": {},
   "outputs": [
    {
     "name": "stdout",
     "output_type": "stream",
     "text": [
      "==============Test Case 1=============\n",
      "Linked List 1:\n",
      "1-->2-->6-->8-->11\n",
      "\n",
      "Linked List 2:\n",
      "5-->7-->3-->9-->4\n",
      "\n",
      "Merged Linked List:\n",
      "1-->5-->2-->7-->6-->3-->8-->9-->11-->4-->None\n",
      "\n",
      "==============Test Case 2=============\n",
      "Linked List 1:\n",
      "5-->3-->2-->-4\n",
      "\n",
      "Linked List 2:\n",
      "-4-->-6-->1\n",
      "\n",
      "Merged Linked List:\n",
      "5-->-4-->3-->-6-->2-->1-->-4-->None\n",
      "\n",
      "==============Test Case 3=============\n",
      "Linked List 1:\n",
      "4-->2-->-2-->-4\n",
      "\n",
      "Linked List 2:\n",
      "8-->6-->5-->-3\n",
      "\n",
      "Merged Linked List:\n",
      "4-->8-->2-->6-->-2-->5-->-4-->-3-->None\n",
      "\n"
     ]
    }
   ],
   "source": [
    "def alternate_merge(head1, head2):\n",
    "    #TO DO\n",
    "    merge = Node(None)\n",
    "    curr = merge\n",
    "    size1, size2 = count(head1), count(head2)\n",
    "    temp1, temp2 = head1, head2\n",
    "\n",
    "    while  temp1 != None and temp2 != None:\n",
    "        curr.next = temp1\n",
    "        curr = curr.next\n",
    "        temp1 = temp1.next\n",
    "        curr.next = temp2\n",
    "        curr = curr.next\n",
    "        temp2 = temp2.next\n",
    "        \n",
    "    if size1 > size2:\n",
    "        while temp1 != None:\n",
    "            curr.next = temp1\n",
    "            curr = curr.next\n",
    "            temp1 = temp1.next\n",
    "    elif size1 < size2:\n",
    "        while temp2 != None:\n",
    "            curr.next = temp2\n",
    "            curr = curr.next\n",
    "            temp2 = temp2.next\n",
    "\n",
    "    curr.next = Node(None)\n",
    "    return merge.next\n",
    "\n",
    "print('==============Test Case 1=============')\n",
    "head1 = createList(np.array([1,2,6,8,11]))\n",
    "head2 = createList(np.array([5,7,3,9,4]))\n",
    "\n",
    "print(\"Linked List 1:\")\n",
    "printLinkedList(head1)\n",
    "print(\"Linked List 2:\")\n",
    "printLinkedList(head2)\n",
    "\n",
    "head = alternate_merge(head1, head2)\n",
    "print(\"Merged Linked List:\")\n",
    "printLinkedList(head)    #This should print    1 --> 5 --> 2 --> 7 --> 6 --> 3 --> 8 --> 9 --> 11 --> 4\n",
    "\n",
    "\n",
    "print('==============Test Case 2=============')\n",
    "head1 = createList(np.array([5, 3, 2, -4]))\n",
    "head2 = createList(np.array([-4, -6, 1]))\n",
    "\n",
    "print(\"Linked List 1:\")\n",
    "printLinkedList(head1)\n",
    "print(\"Linked List 2:\")\n",
    "printLinkedList(head2)\n",
    "\n",
    "head = alternate_merge(head1, head2)\n",
    "print(\"Merged Linked List:\")\n",
    "printLinkedList(head)    #This should print    5 → -4 -> 3 → -6 -> 2 -> 1 -> -4\n",
    "\n",
    "\n",
    "print('==============Test Case 3=============')\n",
    "head1 = createList(np.array([4, 2, -2, -4]))\n",
    "head2 = createList(np.array([8, 6, 5, -3]))\n",
    "\n",
    "print(\"Linked List 1:\")\n",
    "printLinkedList(head1)\n",
    "print(\"Linked List 2:\")\n",
    "printLinkedList(head2)\n",
    "\n",
    "head = alternate_merge(head1, head2)\n",
    "print(\"Merged Linked List:\")\n",
    "printLinkedList(head)    #This should print   4-> 8 → 2-> 6 → -2 → 5 → -4 -> -3\n"
   ]
  },
  {
   "cell_type": "markdown",
   "metadata": {
    "id": "g8b2lKE5o4HE"
   },
   "source": [
    "Task 6: Sum of Nodes"
   ]
  },
  {
   "cell_type": "code",
   "execution_count": 19,
   "metadata": {
    "id": "AeUE5H0so6oP"
   },
   "outputs": [
    {
     "name": "stdout",
     "output_type": "stream",
     "text": [
      "==============Test Case 1=============\n",
      "Sum of Nodes: 4\n",
      "Accepted\n",
      "\n"
     ]
    }
   ],
   "source": [
    "def sum_dist(head, arr):\n",
    "  #TO DO\n",
    "    total = 0\n",
    "    for i in range(len(arr)):\n",
    "        count = 0\n",
    "        temp = head\n",
    "        while temp != None :\n",
    "            if count == arr[i]:\n",
    "                total += temp.elem\n",
    "            temp = temp.next\n",
    "            count += 1\n",
    "    return total\n",
    "\n",
    "print('==============Test Case 1=============')\n",
    "LL1 = createList(np.array([10,16,-5,9,3,4]))\n",
    "dist = np.array([2,0,5,2,8])\n",
    "returned_value = sum_dist(LL1, dist)\n",
    "print(f'Sum of Nodes: {returned_value}') #This should print Sum of Nodes: 4\n",
    "unittest.output_test(returned_value, 4)\n",
    "print()"
   ]
  },
  {
   "cell_type": "markdown",
   "metadata": {
    "id": "pNihvj0mqZGx"
   },
   "source": [
    "Bonus Task: ID Generator"
   ]
  },
  {
   "cell_type": "code",
   "execution_count": 38,
   "metadata": {
    "id": "RxtRlCVCqcHV"
   },
   "outputs": [
    {
     "name": "stdout",
     "output_type": "stream",
     "text": [
      "==============Test Case 1=============\n",
      "Linked List 1:\n",
      "0-->3-->2-->2\n",
      "\n",
      "Linked List 2:\n",
      "5-->2-->2-->1\n",
      "\n",
      "Linked List 3:\n",
      "4-->3-->2-->1\n",
      "\n",
      "New ID:\n",
      "2-->2-->3-->0-->9-->5-->4-->2\n",
      "\n",
      "==============Test Case 2=============\n",
      "Linked List 1:\n",
      "0-->3-->9-->1\n",
      "\n",
      "Linked List 2:\n",
      "3-->6-->5-->7\n",
      "\n",
      "Linked List 3:\n",
      "2-->4-->3-->8\n",
      "\n",
      "New ID:\n",
      "1-->9-->3-->0-->5-->0-->8-->5\n",
      "\n"
     ]
    }
   ],
   "source": [
    "def idGenerator(head1, head2, head3):\n",
    "  #TO DO\n",
    "    curr = head1\n",
    "    prev = None\n",
    "    while curr != None:\n",
    "        temp = curr.next\n",
    "        curr.next = prev\n",
    "        prev = curr \n",
    "        curr = temp\n",
    "\n",
    "    curr1, curr2 = head2, head3\n",
    "    while curr1 != None and curr2 != None:\n",
    "        new = Node ( (curr1.elem + curr2.elem) % 10)\n",
    "        head1.next = new\n",
    "        head1 = new\n",
    "        curr1 = curr1.next\n",
    "        curr2 = curr2.next\n",
    "    \n",
    "    return prev\n",
    "\n",
    "\n",
    "print('==============Test Case 1=============')\n",
    "head1 = createList(np.array([0,3,2,2]))\n",
    "head2 = createList(np.array([5,2,2,1]))\n",
    "head3 = createList(np.array([4,3,2,1]))\n",
    "\n",
    "print(\"Linked List 1:\")\n",
    "printLinkedList(head1)\n",
    "print(\"Linked List 2:\")\n",
    "printLinkedList(head2)\n",
    "print(\"Linked List 3:\")\n",
    "printLinkedList(head3)\n",
    "\n",
    "result = idGenerator(head1, head2, head3)\n",
    "print(\"New ID:\")\n",
    "printLinkedList(result)    #This should print  2 → 2 → 3 → 0 → 9 → 5 → 4 → 2\n",
    "\n",
    "\n",
    "print('==============Test Case 2=============')\n",
    "head1 = createList(np.array([0,3,9,1]))\n",
    "head2 = createList(np.array([3,6,5,7]))\n",
    "head3 = createList(np.array([2,4,3,8]))\n",
    "\n",
    "print(\"Linked List 1:\")\n",
    "printLinkedList(head1)\n",
    "print(\"Linked List 2:\")\n",
    "printLinkedList(head2)\n",
    "print(\"Linked List 3:\")\n",
    "printLinkedList(head3)\n",
    "\n",
    "result = idGenerator(head1, head2, head3)\n",
    "print(\"New ID:\")\n",
    "printLinkedList(result)    #This should print 1 → 9 → 3 → 0 → 5 → 0 → 8 → 5"
   ]
  }
 ],
 "metadata": {
  "colab": {
   "provenance": []
  },
  "kernelspec": {
   "display_name": "Python 3",
   "name": "python3"
  },
  "language_info": {
   "codemirror_mode": {
    "name": "ipython",
    "version": 3
   },
   "file_extension": ".py",
   "mimetype": "text/x-python",
   "name": "python",
   "nbconvert_exporter": "python",
   "pygments_lexer": "ipython3",
   "version": "3.12.0"
  }
 },
 "nbformat": 4,
 "nbformat_minor": 0
}
