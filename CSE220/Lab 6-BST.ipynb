{
 "cells": [
  {
   "cell_type": "code",
   "execution_count": 2,
   "metadata": {
    "id": "D6vC520OPeTa"
   },
   "outputs": [],
   "source": [
    "class BTNode:\n",
    "  def __init__(self, elem):\n",
    "    self.elem = elem\n",
    "    self.right = None\n",
    "    self.left = None"
   ]
  },
  {
   "cell_type": "code",
   "execution_count": 3,
   "metadata": {},
   "outputs": [],
   "source": [
    "# extra codes \n",
    "import math\n",
    "\n",
    "class BTPrinter:\n",
    "\n",
    "    # @staticmethod\n",
    "    # def in_order_print(root):\n",
    "    #     if root is None:\n",
    "    #         print(\"null\")\n",
    "    #     else:\n",
    "    #         BTPrinter.in_order_print_helper(root)\n",
    "    #         print()\n",
    "\n",
    "    # @staticmethod\n",
    "    # def in_order_print_helper(root):\n",
    "    #     if root is None:\n",
    "    #         return\n",
    "    #     BTPrinter.in_order_print_helper(root.left)\n",
    "    #     print(root.elem, end=\" \")\n",
    "    #     BTPrinter.in_order_print_helper(root.right)\n",
    "\n",
    "    @staticmethod\n",
    "    def print_node(root):\n",
    "        if root is None:\n",
    "            print(\"null\")\n",
    "        else:\n",
    "            max_level = BTPrinter.max_level(root)\n",
    "            BTPrinter.print_node_internal([root], 1, max_level)\n",
    "\n",
    "    @staticmethod\n",
    "    def print_node_internal(nodes, level, max_level):\n",
    "        if not nodes or BTPrinter.is_all_elements_null(nodes):\n",
    "            return\n",
    "\n",
    "        floor = max_level - level\n",
    "        edge_lines = int(math.pow(2, max(floor - 1, 0)))\n",
    "        first_spaces = int(math.pow(2, floor)) - 1\n",
    "        between_spaces = int(math.pow(2, floor + 1)) - 1\n",
    "\n",
    "        BTPrinter.print_whitespaces(first_spaces)\n",
    "\n",
    "        new_nodes = []\n",
    "        for node in nodes:\n",
    "            if node is not None:\n",
    "                print(node.elem, end=\"\")\n",
    "                new_nodes.append(node.left)\n",
    "                new_nodes.append(node.right)\n",
    "            else:\n",
    "                new_nodes.append(None)\n",
    "                new_nodes.append(None)\n",
    "                print(\" \", end=\"\")\n",
    "\n",
    "            BTPrinter.print_whitespaces(between_spaces)\n",
    "\n",
    "        print(\"\")\n",
    "\n",
    "        for i in range(1, edge_lines + 1):\n",
    "            for j in range(len(nodes)):\n",
    "                BTPrinter.print_whitespaces(first_spaces - i)\n",
    "                if nodes[j] is None:\n",
    "                    BTPrinter.print_whitespaces(edge_lines + edge_lines + i + 1)\n",
    "                    continue\n",
    "\n",
    "                if nodes[j].left is not None:\n",
    "                    elem_length = len(str(nodes[j].left.elem))\n",
    "                    if elem_length == 1:\n",
    "                        print(\"/\", end=\"\")\n",
    "                    else:\n",
    "                        print(\" /\", end=\"\")\n",
    "                else:\n",
    "                    BTPrinter.print_whitespaces(1)\n",
    "\n",
    "                BTPrinter.print_whitespaces(i + i - 1)\n",
    "\n",
    "                if nodes[j].right is not None:\n",
    "                    elem_length = len(str(nodes[j].right.elem))\n",
    "                    if elem_length == 1:\n",
    "                        print(\"\\\\\", end=\"\")\n",
    "                    else:\n",
    "                        print(\" \\\\\", end=\"\")\n",
    "                else:\n",
    "                    BTPrinter.print_whitespaces(1)\n",
    "\n",
    "                BTPrinter.print_whitespaces(edge_lines + edge_lines - i)\n",
    "\n",
    "            print(\"\")\n",
    "\n",
    "        BTPrinter.print_node_internal(new_nodes, level + 1, max_level)\n",
    "\n",
    "    @staticmethod\n",
    "    def print_whitespaces(count):\n",
    "        for _ in range(count):\n",
    "            print(\" \", end=\"\")\n",
    "\n",
    "    @staticmethod\n",
    "    def max_level(node):\n",
    "        if node is None:\n",
    "            return 0\n",
    "        return max(BTPrinter.max_level(node.left), BTPrinter.max_level(node.right)) + 1\n",
    "\n",
    "    @staticmethod\n",
    "    def is_all_elements_null(lst):\n",
    "        for obj in lst:\n",
    "            if obj is not None:\n",
    "                return False\n",
    "        return True\n"
   ]
  },
  {
   "cell_type": "code",
   "execution_count": 4,
   "metadata": {
    "id": "UDTKlm4-PfNM"
   },
   "outputs": [],
   "source": [
    "def inorder(root):\n",
    "  if root == None:\n",
    "    return\n",
    "\n",
    "  inorder(root.left)\n",
    "  print(root.elem, end = ' ')\n",
    "  inorder(root.right)"
   ]
  },
  {
   "cell_type": "code",
   "execution_count": 5,
   "metadata": {
    "id": "Rtc22SPzPgzM"
   },
   "outputs": [
    {
     "name": "stdout",
     "output_type": "stream",
     "text": [
      "H D B E A I F J C G k "
     ]
    }
   ],
   "source": [
    "def tree_construction(arr, i = 1):\n",
    "  if i>=len(arr) or arr[i] == None:\n",
    "    return None\n",
    "  p = BTNode(arr[i])\n",
    "  p.left = tree_construction(arr, 2*i)\n",
    "  p.right = tree_construction(arr, 2*i+1)\n",
    "  return p\n",
    "\n",
    "\n",
    "root2 = tree_construction([None, 'A', 'B', 'C', 'D', 'E', 'F', 'G', 'H', None, None, None, 'I', 'J', None, 'k'])\n",
    "inorder(root2)\n"
   ]
  },
  {
   "cell_type": "markdown",
   "metadata": {
    "id": "S2nNCJNhPqGq"
   },
   "source": [
    "Task 1"
   ]
  },
  {
   "cell_type": "code",
   "execution_count": 6,
   "metadata": {
    "id": "zbBHU3FoPieb"
   },
   "outputs": [
    {
     "name": "stdout",
     "output_type": "stream",
     "text": [
      "10\n",
      "15\n",
      "20\n",
      "25\n",
      "10\n"
     ]
    }
   ],
   "source": [
    "def LCA(root, x, y):\n",
    "    #To Do\n",
    "    if root == None:\n",
    "        return \n",
    "    \n",
    "    if root.elem > x and root.elem > y :\n",
    "        return LCA(root.left,x,y)\n",
    "    \n",
    "    if root.elem < x and root.elem < y :\n",
    "        return LCA(root.right,x,y)\n",
    "\n",
    "    return root.elem\n",
    "\n",
    "\n",
    "#DRIVER CODE\n",
    "root = tree_construction([None,15, 10, 25, 8, 12, 20, 30, 6, 9, None, None, 18, 22, None, None ])\n",
    "#Write by yourself from the given tree (Create parent node and its corresponding left and right children nodes)\n",
    "#check all the sample inputs given\n",
    "#You can take help by seeing the driver code of Lab-6\n",
    "print(LCA(root,6,12)) \n",
    "print(LCA(root,20,6)) \n",
    "print(LCA(root,18,22)) \n",
    "print(LCA(root,20,25)) \n",
    "print(LCA(root,10,12))"
   ]
  },
  {
   "cell_type": "markdown",
   "metadata": {
    "id": "c-TBf3m0PrtK"
   },
   "source": [
    "Task 2"
   ]
  },
  {
   "cell_type": "code",
   "execution_count": 7,
   "metadata": {
    "id": "i6l-v7k1eE9A"
   },
   "outputs": [
    {
     "name": "stdout",
     "output_type": "stream",
     "text": [
      "[30, 10, 15]\n",
      "No path found.\n"
     ]
    }
   ],
   "source": [
    "def find_path(root, key):\n",
    "    #To Do\n",
    "    new = []\n",
    "    def find(root, key):\n",
    "        if root == None:\n",
    "            return False\n",
    "        \n",
    "        new.append(root.elem)\n",
    "        if root.elem == key:\n",
    "            return True\n",
    "        \n",
    "        if find(root.left, key) or find(root.right, key):\n",
    "            return True\n",
    "        \n",
    "        new.pop()\n",
    "\n",
    "        return False\n",
    "    \n",
    "    if find(root, key):\n",
    "        return new\n",
    "    return \"No path found.\"\n",
    "\n",
    "#DRIVER CODE\n",
    "root = tree_construction([None, 30, 10, 40, 3, 15, 35, 55])\n",
    "#Write by yourself from the given tree\n",
    "print(find_path(root,15))\n",
    "#This should print [30,10,15]\n",
    "\n",
    "print(find_path(root,50))\n",
    "#This should print No Path Found"
   ]
  },
  {
   "cell_type": "markdown",
   "metadata": {
    "id": "7r3lH3aWPz2d"
   },
   "source": [
    "Task 3"
   ]
  },
  {
   "cell_type": "code",
   "execution_count": 10,
   "metadata": {
    "id": "5eT12zYb8zm7"
   },
   "outputs": [
    {
     "name": "stdout",
     "output_type": "stream",
     "text": [
      "108\n"
     ]
    }
   ],
   "source": [
    "def sum_of_leaves(root, sum):\n",
    "    #To Do\n",
    "    if root == None:\n",
    "        return sum\n",
    "    if root.left == None and root.right == None:\n",
    "        sum += root.elem\n",
    "        return sum\n",
    "\n",
    "    return sum + sum_of_leaves(root.left, sum) +  sum_of_leaves(root.right, sum)\n",
    "    \n",
    "\n",
    "\n",
    "#DRIVER CODE\n",
    "root = tree_construction([None, 30, 10, 40, 3, 15, 35, 55, 2, None, None, None, None, 36, None, None])\n",
    "#Write by yourself from the given tree\n",
    "\n",
    "print(sum_of_leaves(root, 0))"
   ]
  },
  {
   "cell_type": "markdown",
   "metadata": {
    "id": "5KeA-BoC3uOo"
   },
   "source": [
    "Task 4"
   ]
  },
  {
   "cell_type": "code",
   "execution_count": 24,
   "metadata": {
    "id": "zFwP64v4Pu6d"
   },
   "outputs": [
    {
     "name": "stdout",
     "output_type": "stream",
     "text": [
      "Given Tree Inorder Traversal:  \n",
      "Inorder predecessor of node 4: 4\n"
     ]
    }
   ],
   "source": [
    "def inorder_predecessor(root, x):\n",
    "    #To Do\n",
    "\n",
    "    def inorder(root, x, prev):\n",
    "\n",
    "        if root is None:\n",
    "            return prev\n",
    "\n",
    "        if root.elem < x.elem:\n",
    "            return inorder(root.right, x, root)\n",
    "        \n",
    "        else:\n",
    "            if root.elem > prev.elem:\n",
    "                return inorder(root.left, x, prev)\n",
    "            else:\n",
    "                return inorder(root.left, x, root)\n",
    "\n",
    "\n",
    "    return inorder(root, x, root)\n",
    "        \n",
    "            \n",
    "\n",
    "#DRIVER CODE\n",
    "root = BTNode(20)\n",
    "n1 = BTNode(8)\n",
    "n2 = BTNode(22)\n",
    "n3 = BTNode(4)\n",
    "n4 = BTNode(12)\n",
    "n5 = BTNode(10)\n",
    "n6 = BTNode(14)\n",
    "\n",
    "root.left = n1\n",
    "root.right = n2\n",
    "\n",
    "n1.left = n3\n",
    "n1.right = n4\n",
    "\n",
    "n4.left = n5\n",
    "n4.right = n6\n",
    "\n",
    "print('Given Tree Inorder Traversal: ', end = ' ')\n",
    "inorder(root) #Given Tree Inorder Traversal:  4 8 10 12 14 20 22\n",
    "print()\n",
    "\n",
    "x = root\n",
    "print(f'Inorder predecessor of node {x.elem}: {inorder_predecessor(root, x).elem}') #Inorder predecessor of node 20: 14"
   ]
  },
  {
   "cell_type": "code",
   "execution_count": 33,
   "metadata": {},
   "outputs": [
    {
     "name": "stdout",
     "output_type": "stream",
     "text": [
      "8\n"
     ]
    }
   ],
   "source": [
    "# in order predecessor\n",
    "def inorder(root, x, predecessor = None):\n",
    "    if not root:\n",
    "        return\n",
    "    if root.elem == x.elem:\n",
    "        if root.left:\n",
    "            temp = root.left\n",
    "            while temp.right:\n",
    "                temp = temp.right\n",
    "            predecessor = temp\n",
    "            return predecessor\n",
    "    \n",
    "    if root.elem < x.elem:\n",
    "        predecessor = root\n",
    "        inorder(root.right, x, predecessor)\n",
    "    else:\n",
    "        predecessor = root.left\n",
    "        inorder(root.left, x, predecessor)\n",
    "    \n",
    "    return predecessor\n",
    "\n",
    "\n",
    "\n",
    "root = BTNode(20)\n",
    "n1 = BTNode(8)\n",
    "n2 = BTNode(22)\n",
    "n3 = BTNode(4)\n",
    "n4 = BTNode(12)\n",
    "n5 = BTNode(10)\n",
    "n6 = BTNode(14)\n",
    "\n",
    "root.left = n1\n",
    "root.right = n2\n",
    "\n",
    "n1.left = n3\n",
    "n1.right = n4\n",
    "\n",
    "n4.left = n5\n",
    "n4.right = n6\n",
    "print(inorder(root,n3,root).elem) "
   ]
  }
 ],
 "metadata": {
  "colab": {
   "provenance": [
    {
     "file_id": "1fz-8XVRUO217Jk0i6byqO6CT1k4vtN0y",
     "timestamp": 1701548920850
    }
   ]
  },
  "kernelspec": {
   "display_name": "Python 3",
   "name": "python3"
  },
  "language_info": {
   "codemirror_mode": {
    "name": "ipython",
    "version": 3
   },
   "file_extension": ".py",
   "mimetype": "text/x-python",
   "name": "python",
   "nbconvert_exporter": "python",
   "pygments_lexer": "ipython3",
   "version": "3.12.0"
  }
 },
 "nbformat": 4,
 "nbformat_minor": 0
}
