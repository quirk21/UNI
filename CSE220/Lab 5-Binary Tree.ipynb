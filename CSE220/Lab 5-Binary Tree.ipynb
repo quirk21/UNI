{
 "cells": [
  {
   "cell_type": "code",
   "execution_count": 1,
   "metadata": {
    "id": "D6vC520OPeTa"
   },
   "outputs": [],
   "source": [
    "class BTNode:\n",
    "  def __init__(self, elem):\n",
    "    self.elem = elem\n",
    "    self.right = None\n",
    "    self.left = None"
   ]
  },
  {
   "cell_type": "code",
   "execution_count": 11,
   "metadata": {
    "id": "UDTKlm4-PfNM"
   },
   "outputs": [],
   "source": [
    "def inorder(root):\n",
    "  if root == None:\n",
    "    return\n",
    "\n",
    "  inorder(root.left)\n",
    "  print(root.elem, end = ' ')\n",
    "  inorder(root.right)\n",
    "  \n",
    "# extra codes \n",
    "import math\n",
    "\n",
    "class BTPrinter:\n",
    "\n",
    "    # @staticmethod\n",
    "    # def in_order_print(root):\n",
    "    #     if root is None:\n",
    "    #         print(\"null\")\n",
    "    #     else:\n",
    "    #         BTPrinter.in_order_print_helper(root)\n",
    "    #         print()\n",
    "\n",
    "    # @staticmethod\n",
    "    # def in_order_print_helper(root):\n",
    "    #     if root is None:\n",
    "    #         return\n",
    "    #     BTPrinter.in_order_print_helper(root.left)\n",
    "    #     print(root.elem, end=\" \")\n",
    "    #     BTPrinter.in_order_print_helper(root.right)\n",
    "\n",
    "    @staticmethod\n",
    "    def print_node(root):\n",
    "        if root is None:\n",
    "            print(\"null\")\n",
    "        else:\n",
    "            max_level = BTPrinter.max_level(root)\n",
    "            BTPrinter.print_node_internal([root], 1, max_level)\n",
    "\n",
    "    @staticmethod\n",
    "    def print_node_internal(nodes, level, max_level):\n",
    "        if not nodes or BTPrinter.is_all_elements_null(nodes):\n",
    "            return\n",
    "\n",
    "        floor = max_level - level\n",
    "        edge_lines = int(math.pow(2, max(floor - 1, 0)))\n",
    "        first_spaces = int(math.pow(2, floor)) - 1\n",
    "        between_spaces = int(math.pow(2, floor + 1)) - 1\n",
    "\n",
    "        BTPrinter.print_whitespaces(first_spaces)\n",
    "\n",
    "        new_nodes = []\n",
    "        for node in nodes:\n",
    "            if node is not None:\n",
    "                print(node.elem, end=\"\")\n",
    "                new_nodes.append(node.left)\n",
    "                new_nodes.append(node.right)\n",
    "            else:\n",
    "                new_nodes.append(None)\n",
    "                new_nodes.append(None)\n",
    "                print(\" \", end=\"\")\n",
    "\n",
    "            BTPrinter.print_whitespaces(between_spaces)\n",
    "\n",
    "        print(\"\")\n",
    "\n",
    "        for i in range(1, edge_lines + 1):\n",
    "            for j in range(len(nodes)):\n",
    "                BTPrinter.print_whitespaces(first_spaces - i)\n",
    "                if nodes[j] is None:\n",
    "                    BTPrinter.print_whitespaces(edge_lines + edge_lines + i + 1)\n",
    "                    continue\n",
    "\n",
    "                if nodes[j].left is not None:\n",
    "                    elem_length = len(str(nodes[j].left.elem))\n",
    "                    if elem_length == 1:\n",
    "                        print(\"/\", end=\"\")\n",
    "                    else:\n",
    "                        print(\" /\", end=\"\")\n",
    "                else:\n",
    "                    BTPrinter.print_whitespaces(1)\n",
    "\n",
    "                BTPrinter.print_whitespaces(i + i - 1)\n",
    "\n",
    "                if nodes[j].right is not None:\n",
    "                    elem_length = len(str(nodes[j].right.elem))\n",
    "                    if elem_length == 1:\n",
    "                        print(\"\\\\\", end=\"\")\n",
    "                    else:\n",
    "                        print(\" \\\\\", end=\"\")\n",
    "                else:\n",
    "                    BTPrinter.print_whitespaces(1)\n",
    "\n",
    "                BTPrinter.print_whitespaces(edge_lines + edge_lines - i)\n",
    "\n",
    "            print(\"\")\n",
    "\n",
    "        BTPrinter.print_node_internal(new_nodes, level + 1, max_level)\n",
    "\n",
    "    @staticmethod\n",
    "    def print_whitespaces(count):\n",
    "        for _ in range(count):\n",
    "            print(\" \", end=\"\")\n",
    "\n",
    "    @staticmethod\n",
    "    def max_level(node):\n",
    "        if node is None:\n",
    "            return 0\n",
    "        return max(BTPrinter.max_level(node.left), BTPrinter.max_level(node.right)) + 1\n",
    "\n",
    "    @staticmethod\n",
    "    def is_all_elements_null(lst):\n",
    "        for obj in lst:\n",
    "            if obj is not None:\n",
    "                return False\n",
    "        return True\n"
   ]
  },
  {
   "cell_type": "code",
   "execution_count": 3,
   "metadata": {
    "id": "Rtc22SPzPgzM"
   },
   "outputs": [
    {
     "name": "stdout",
     "output_type": "stream",
     "text": [
      "H D B E A I F J C G k "
     ]
    }
   ],
   "source": [
    "def tree_construction(arr, i = 1):\n",
    "  if i>=len(arr) or arr[i] == None:\n",
    "    return None\n",
    "  p = BTNode(arr[i])\n",
    "  p.left = tree_construction(arr, 2*i)\n",
    "  p.right = tree_construction(arr, 2*i+1)\n",
    "  return p\n",
    "\n",
    "\n",
    "root2 = tree_construction([None, 'A', 'B', 'C', 'D', 'E', 'F', 'G', 'H', None, None, None, 'I', 'J', None, 'k'])\n",
    "inorder(root2)"
   ]
  },
  {
   "cell_type": "markdown",
   "metadata": {
    "id": "S2nNCJNhPqGq"
   },
   "source": [
    "Task 1"
   ]
  },
  {
   "cell_type": "code",
   "execution_count": 4,
   "metadata": {
    "id": "zbBHU3FoPieb"
   },
   "outputs": [
    {
     "name": "stdout",
     "output_type": "stream",
     "text": [
      "Given Tree Inorder Traversal:  40 20 60 10 30 \n",
      "Mirrored Tree Inorder Traversal:  30 10 60 20 40 "
     ]
    }
   ],
   "source": [
    "def convert_mirror(root):\n",
    "    #To Do\n",
    "    if root == None:\n",
    "        return\n",
    "    left = root.left\n",
    "    right = root.right\n",
    "\n",
    "    root.left = right\n",
    "    root.right = left\n",
    "    convert_mirror(root.left)\n",
    "    convert_mirror(root.right)\n",
    "    \n",
    "    return root\n",
    "\n",
    "#DRIVER CODE\n",
    "root = BTNode(10)\n",
    "n1 = BTNode(20)\n",
    "n2 = BTNode(30)\n",
    "n3 = BTNode(40)\n",
    "n4 = BTNode(60)\n",
    "\n",
    "root.left = n1\n",
    "root.right = n2\n",
    "\n",
    "n1.left = n3\n",
    "n1.right = n4\n",
    "\n",
    "print('Given Tree Inorder Traversal: ', end = ' ')\n",
    "inorder(root) #Given Tree Inorder Traversal:  40 20 60 10 30\n",
    "print()\n",
    "\n",
    "root2 = convert_mirror(root)\n",
    "print('Mirrored Tree Inorder Traversal: ', end = ' ')\n",
    "inorder(root2) #Mirrored Tree Inorder Traversal:  30 10 60 20 40"
   ]
  },
  {
   "cell_type": "markdown",
   "metadata": {
    "id": "c-TBf3m0PrtK"
   },
   "source": [
    "Task 2"
   ]
  },
  {
   "cell_type": "code",
   "execution_count": 5,
   "metadata": {
    "id": "lsuxinlBPmji"
   },
   "outputs": [
    {
     "name": "stdout",
     "output_type": "stream",
     "text": [
      "Given Tree Inorder Traversal:  3 9 -5 4 2 7 \n",
      "Level Wise Smallest Value:  {0: 4, 1: 2, 2: -5}\n"
     ]
    }
   ],
   "source": [
    "def smallest_level(root, level = {}, i = 0):\n",
    "    #To Do \n",
    "    if root == None:\n",
    "        return\n",
    "    \n",
    "    if i not in level.keys():\n",
    "        level[i] = root.elem\n",
    "    else:\n",
    "        level[i] = level[i] if level[i] < root.elem else root.elem\n",
    "    \n",
    "    smallest_level(root.left,level,i + 1)\n",
    "    smallest_level(root.right,level,i + 1)\n",
    "   \n",
    "\n",
    "    return level\n",
    "\n",
    "\n",
    "#DRIVER CODE\n",
    "root = tree_construction([None, 4,9,2,3,-5,None,7])\n",
    "print('Given Tree Inorder Traversal: ', end = ' ')\n",
    "inorder(root) #Given Tree Inorder Traversal:  3 9 5 4 2 7\n",
    "print()\n",
    "print('Level Wise Smallest Value: ', end = ' ')\n",
    "print(smallest_level(root)) #Level Wise Smallest Value:  {0: 4, 1: 2, 2: -5}"
   ]
  },
  {
   "cell_type": "markdown",
   "metadata": {
    "id": "t3IGW4OaP8Vy"
   },
   "source": [
    "Task 3"
   ]
  },
  {
   "cell_type": "code",
   "execution_count": 6,
   "metadata": {
    "id": "m4E9_E8PThk6"
   },
   "outputs": [],
   "source": [
    "def sumTree(root):\n",
    "\n",
    "    # To DO\n",
    "    #you can declare as many helper function with extra parameters as you need .\n",
    "    #You can not modify the parameters of sumTree or modify any part of the given code.\n",
    "\n",
    "    return new_sum_func(root)\n",
    "\n",
    "def new_sum_func(root, count = 0, i = 0 ):\n",
    "    if root == None:\n",
    "        return count\n",
    "    if i == 0:\n",
    "        count += root.elem\n",
    "    else:\n",
    "        count += root.elem % i\n",
    "\n",
    "    \n",
    "    count = new_sum_func(root.left, count , i + 1)\n",
    "    count = new_sum_func(root.right, count , i + 1)\n",
    "\n",
    "    return count\n",
    "\n"
   ]
  },
  {
   "cell_type": "code",
   "execution_count": 7,
   "metadata": {
    "id": "wV3ezsf_Kwli"
   },
   "outputs": [
    {
     "name": "stdout",
     "output_type": "stream",
     "text": [
      "15\n"
     ]
    }
   ],
   "source": [
    "#Driver Code\n",
    "#Input 1\n",
    "root1 = BTNode(9)\n",
    "node2 = BTNode(4)\n",
    "node3 = BTNode(5)\n",
    "node4 = BTNode(18)\n",
    "node5 = BTNode(14)\n",
    "node6 = BTNode(3)\n",
    "node7 = BTNode(54)\n",
    "node8 = BTNode(12)\n",
    "node9 = BTNode(8)\n",
    "node10 = BTNode(91)\n",
    "node11 = BTNode(56)\n",
    "\n",
    "root1.left = node2\n",
    "root1.right = node3\n",
    "\n",
    "node2.left = node4\n",
    "\n",
    "node3.left = node5\n",
    "node3.right = node6\n",
    "\n",
    "node4.left = node7\n",
    "node4.right = node8\n",
    "\n",
    "node5.left = node9\n",
    "\n",
    "node8.left = node10\n",
    "node8.right = node11\n",
    "\n",
    "print(sumTree(root1)) #This should print 15"
   ]
  },
  {
   "cell_type": "markdown",
   "metadata": {
    "id": "8GJeWub8Ki1X"
   },
   "source": [
    "Task 4\n"
   ]
  },
  {
   "cell_type": "code",
   "execution_count": 8,
   "metadata": {
    "id": "0Rb_m6FRKktN"
   },
   "outputs": [
    {
     "name": "stdout",
     "output_type": "stream",
     "text": [
      "Given Tree Inorder Traversal:  G D H B I E A C J F \n",
      "Swapped Tree Inorder Traversal:  J F C A I E B G D H "
     ]
    }
   ],
   "source": [
    "def swap_child(root, level, M):\n",
    "    #To Do\n",
    "    return new_swap(root, level, M)\n",
    "\n",
    "def new_swap(root, start, end, count = 0):\n",
    "\n",
    "    if start >= end or root == None:\n",
    "        return\n",
    "\n",
    "    if start <= count < end:\n",
    "        left = root.left\n",
    "        right = root.right\n",
    "        root.left = right\n",
    "        root.right = left\n",
    "\n",
    "    new_swap(root.left, start, end, count + 1)\n",
    "    new_swap(root.right, start, end, count + 1)\n",
    "\n",
    "    return root\n",
    "\n",
    "    \n",
    "#Driver Code\n",
    "root=BTNode('A')\n",
    "#Write other nodes by yourself from the given tree of Doc File\n",
    "\n",
    "nodeB = BTNode('B')\n",
    "nodeC = BTNode('C')\n",
    "nodeD = BTNode('D')\n",
    "nodeE = BTNode('E')\n",
    "nodeF = BTNode('F')\n",
    "nodeG = BTNode('G')\n",
    "nodeH = BTNode('H')\n",
    "nodeI = BTNode('I')\n",
    "nodeJ = BTNode('J')\n",
    "\n",
    "root.left = nodeB\n",
    "root.right = nodeC\n",
    "\n",
    "nodeB.left = nodeD\n",
    "nodeB.right = nodeE\n",
    "\n",
    "nodeC.right = nodeF\n",
    "nodeF.left = nodeJ\n",
    "\n",
    "nodeD.left = nodeG\n",
    "nodeD.right = nodeH\n",
    "\n",
    "nodeE.left = nodeI\n",
    "\n",
    "print('Given Tree Inorder Traversal: ', end = ' ')\n",
    "inorder(root)   #Given Tree Inorder Traversal: G D H B I E A C J F\n",
    "print()\n",
    "\n",
    "root2 = swap_child(root, 0, 2)\n",
    "print('Swapped Tree Inorder Traversal: ', end = ' ')\n",
    "inorder(root2)  #Swapped Tree Inorder Traversal: J F C A I E B G D H"
   ]
  },
  {
   "cell_type": "markdown",
   "metadata": {
    "id": "VrHklDOEKlHf"
   },
   "source": [
    "Task 5"
   ]
  },
  {
   "cell_type": "code",
   "execution_count": 9,
   "metadata": {
    "id": "dMXJ2qxkNn_F"
   },
   "outputs": [
    {
     "name": "stdout",
     "output_type": "stream",
     "text": [
      "111\n"
     ]
    }
   ],
   "source": [
    "def subtract_summation(root):\n",
    "    #To Do\n",
    "    left = sum_tree(root.left)\n",
    "    right = sum_tree(root.right)\n",
    "    return (left - right)\n",
    "\n",
    "def sum_tree(root):\n",
    "    if root == None:\n",
    "        return 0\n",
    "\n",
    "    return root.elem + sum_tree(root.left) + sum_tree(root.right)\n",
    "\n",
    "\n",
    "#Driver Code\n",
    "root=BTNode(71)\n",
    "#Write other nodes by yourself from the given tree of Doc File\n",
    "node27 = BTNode(27)\n",
    "node62 = BTNode(62)\n",
    "node80 = BTNode(80)\n",
    "node75 = BTNode(75)\n",
    "node41 = BTNode(41)\n",
    "node3 = BTNode(3)\n",
    "node87 = BTNode(87)\n",
    "node56 = BTNode(56)\n",
    "node19 = BTNode(19)\n",
    "node89 = BTNode(89)\n",
    "\n",
    "root.left = node27\n",
    "root.right = node62\n",
    "\n",
    "node27.left = node80\n",
    "node27.right = node75\n",
    "\n",
    "node80.left = node87\n",
    "node80.right = node56\n",
    "\n",
    "node62.left = node41\n",
    "node62.right = node3\n",
    "\n",
    "node3.left = node19\n",
    "node3.right = node89\n",
    "\n",
    "\n",
    "print(subtract_summation(root)) #This should print 111"
   ]
  },
  {
   "cell_type": "markdown",
   "metadata": {
    "id": "SBD-0xoZP_ni"
   },
   "source": [
    "Bonus Task"
   ]
  },
  {
   "cell_type": "code",
   "execution_count": 10,
   "metadata": {
    "id": "U_LYhaRIxZCb"
   },
   "outputs": [
    {
     "name": "stdout",
     "output_type": "stream",
     "text": [
      "4\n"
     ]
    }
   ],
   "source": [
    "def level_sum(root):\n",
    "    #To Do\n",
    "    return new_sum_func(root)\n",
    "    \n",
    "def new_sum_func(root, count = 0, i = 0):\n",
    "    if root == None:\n",
    "        return count\n",
    "    if count % 2 == 0:\n",
    "        count += root.elem\n",
    "    else:\n",
    "        count -= root.elem\n",
    "\n",
    "    count = new_sum_func(root.left, count, i + 1)\n",
    "    count = new_sum_func(root.right, count, i + 1)\n",
    "\n",
    "    return count\n",
    "\n",
    "\n",
    "#DRIVER CODE\n",
    "root = BTNode(1)\n",
    "n2 = BTNode(2)\n",
    "n3 = BTNode(3)\n",
    "n4 = BTNode(4)\n",
    "n5 = BTNode(5)\n",
    "n6 = BTNode(6)\n",
    "n7 = BTNode(7)\n",
    "n8 = BTNode(8)\n",
    "root.left = n2\n",
    "root.right = n3\n",
    "\n",
    "n2.left = n4\n",
    "n3.left = n5\n",
    "n3.right = n6\n",
    "\n",
    "n5.left = n7\n",
    "n5.right = n8\n",
    "\n",
    "\n",
    "print(level_sum(root)) #This should print 4"
   ]
  },
  {
   "cell_type": "code",
   "execution_count": 24,
   "metadata": {},
   "outputs": [
    {
     "name": "stdout",
     "output_type": "stream",
     "text": [
      "True\n",
      "False\n",
      "False\n",
      "False\n"
     ]
    }
   ],
   "source": [
    "# summer final 2024\n",
    "def is_valid(root, key):\n",
    "    def helper(root, key, level = 0):\n",
    "        if not root or level > len(key)-1:\n",
    "            return False\n",
    "        if root.elem != key[level]:\n",
    "            return False\n",
    "        if level == len(key)-1:\n",
    "            if not root.left and not root.right:\n",
    "                return True\n",
    "        \n",
    "        return helper(root.left, key, level + 1) or helper(root.right, key, level + 1)\n",
    "    return helper(root, key)\n",
    "\n",
    "root = tree_construction([None,\"c\",\"s\",\"r\",\"t\",\"e\",\"m\",\"p\",None,None,None,None,None,None,\"d\"])\n",
    "# printer = BTPrinter()\n",
    "# printer.print_node(root)\n",
    "print(is_valid(root, \"cse\"))\n",
    "print(is_valid(root, \"cra\"))\n",
    "print(is_valid(root, \"crp\"))\n",
    "print(is_valid(root, \"mrd\"))"
   ]
  },
  {
   "cell_type": "code",
   "execution_count": null,
   "metadata": {},
   "outputs": [],
   "source": []
  }
 ],
 "metadata": {
  "colab": {
   "provenance": [
    {
     "file_id": "1fz-8XVRUO217Jk0i6byqO6CT1k4vtN0y",
     "timestamp": 1701548920850
    }
   ]
  },
  "kernelspec": {
   "display_name": "Python 3",
   "name": "python3"
  },
  "language_info": {
   "codemirror_mode": {
    "name": "ipython",
    "version": 3
   },
   "file_extension": ".py",
   "mimetype": "text/x-python",
   "name": "python",
   "nbconvert_exporter": "python",
   "pygments_lexer": "ipython3",
   "version": "3.12.0"
  }
 },
 "nbformat": 4,
 "nbformat_minor": 0
}
