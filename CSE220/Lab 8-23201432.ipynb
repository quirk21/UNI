{
 "cells": [
  {
   "cell_type": "code",
   "execution_count": 60,
   "metadata": {},
   "outputs": [],
   "source": [
    "import numpy as np\n",
    "\n",
    "class Node:\n",
    "    def __init__(self, value, weight = 1):\n",
    "        self.val = value\n",
    "        self.weight = weight\n",
    "        self.next = None\n"
   ]
  },
  {
   "cell_type": "markdown",
   "metadata": {},
   "source": [
    "adjacency matrix"
   ]
  },
  {
   "cell_type": "code",
   "execution_count": 61,
   "metadata": {},
   "outputs": [],
   "source": [
    "def max_edges(arr):\n",
    "    max = 0\n",
    "    head = None\n",
    "    tail = None\n",
    "\n",
    "    for i in range(len(arr)):\n",
    "        temp = row_max(arr[i])\n",
    "\n",
    "        if temp > max:\n",
    "            head = Node(i)\n",
    "            tail = head\n",
    "            max = temp\n",
    "\n",
    "        elif temp == max:\n",
    "            tail.next = Node(i)\n",
    "            tail = tail.next\n",
    "    \n",
    "    return head, max\n",
    "\n",
    "def row_max(arr, count = 0, sum = 0):\n",
    "    if count == len(arr):\n",
    "        return sum\n",
    "    \n",
    "    return arr[count] + row_max(arr, count + 1, sum)\n",
    "\n",
    "def tuple_to_matrix(items, num):\n",
    "    new = np.zeros((num,num), int)\n",
    "    for i in items:\n",
    "        new[i[0]][i[1]] = 1\n",
    "        new[i[1]][i[0]] = 1\n",
    "    return new\n",
    "\n",
    "def tuple_to_weight_matrix(items, num):\n",
    "    new = np.zeros((num,num), int)\n",
    "    for i in items:\n",
    "        new[i[0]][i[1]] = i[2]\n",
    "        new[i[1]][i[0]] = i[2]\n",
    "    return new\n",
    "\n",
    "def tuple_to_direct_matrix(items, num):\n",
    "    new = np.zeros((num,num), int)\n",
    "    for i in items:\n",
    "        new[i[0]][i[1]] = 1\n",
    "    return new\n",
    "\n",
    "def tuple_to_direct_weight_matrix(items, num):\n",
    "    new = np.zeros((num,num), int)\n",
    "    for i in items:\n",
    "        new[i[0]][i[1]] = i[2]\n",
    "    return new"
   ]
  },
  {
   "cell_type": "code",
   "execution_count": 62,
   "metadata": {},
   "outputs": [
    {
     "name": "stdout",
     "output_type": "stream",
     "text": [
      "Vertex with max degree: 4 5 6 9 \n",
      "max degree  4\n"
     ]
    }
   ],
   "source": [
    "# task 01\n",
    "def max_degre(items, num):\n",
    "    arr = tuple_to_matrix(items, num)\n",
    "    temp = max_edges(arr)\n",
    "    head = temp[0]\n",
    "    print(\"Vertex with max degree: \",end='')\n",
    "    while head:\n",
    "        print (head.val,end=' ')\n",
    "        head = head.next\n",
    "    print()\n",
    "    print(\"max degree \",temp[1])\n",
    "\n",
    "graph = ((3, 6),(6, 7),(6, 8),(6, 9),(9, 10),(0, 3),(2, 5),(0, 4),(0, 5),(1, 4),(1, 5),(2, 3),(2, 4),(4, 5),(7, 8),(8, 9),(7, 9))\n",
    "\n",
    "curr = max_degre(graph, 11)\n"
   ]
  },
  {
   "cell_type": "code",
   "execution_count": 63,
   "metadata": {},
   "outputs": [
    {
     "name": "stdout",
     "output_type": "stream",
     "text": [
      "Vertex with max edge weight: 5 9 \n",
      "max edge weight  70\n"
     ]
    }
   ],
   "source": [
    "# task 02\n",
    "def max_weight(items, num):\n",
    "    arr = tuple_to_weight_matrix(items, num)\n",
    "    temp = max_edges(arr)\n",
    "    head = temp[0]\n",
    "    print(\"Vertex with max edge weight: \",end='')\n",
    "    while head:\n",
    "        print (head.val,end=' ')\n",
    "        head = head.next\n",
    "    print()\n",
    "    print(\"max edge weight \",temp[1])\n",
    "\n",
    "graph = ((3, 6, 10),(6, 7, 5),(6, 8, 5),(6, 9, 5),(9, 10, 40),(0, 3, 10),(2, 5, 20),(0, 4, 5),(0, 5, 15),(1, 4, 15),(1, 5, 10),(2, 3, 10),(2, 4, 15),(4, 5, 25),(7, 8, 10),(8, 9, 5),(7, 9,20))\n",
    "max_weight(graph, 11)"
   ]
  },
  {
   "cell_type": "code",
   "execution_count": 64,
   "metadata": {},
   "outputs": [
    {
     "name": "stdout",
     "output_type": "stream",
     "text": [
      "Vertex with max out degree: 0 2 6 \n",
      "max out degree  3\n",
      "\n",
      "Vertex with max out weight: 2 \n",
      "max out weight  45\n"
     ]
    }
   ],
   "source": [
    "# task 03\n",
    "# sub task 01\n",
    "def max_out_degree(items, num):\n",
    "    arr = tuple_to_direct_matrix(items, num)\n",
    "    temp = max_edges(arr)\n",
    "    head = temp[0]\n",
    "    print(\"Vertex with max out degree: \",end='')\n",
    "    while head:\n",
    "        print (head.val,end=' ')\n",
    "        head = head.next\n",
    "    print()\n",
    "    print(\"max out degree \",temp[1])\n",
    "\n",
    "# sub task 02\n",
    "def max_out_weight(items, num):\n",
    "    arr = tuple_to_direct_weight_matrix(items,num)\n",
    "    temp = max_edges(arr)\n",
    "    head = temp[0]\n",
    "    print(\"Vertex with max out weight: \",end='')\n",
    "    while head:\n",
    "        print (head.val,end=' ')\n",
    "        head = head.next\n",
    "    print()\n",
    "    print(\"max out weight \",temp[1])\n",
    "\n",
    "graph = ((3, 6),(6, 7),(6, 8),(6, 9),(9, 10),(0, 3),(2, 5),(0, 4),(0, 5),(1, 4),(1, 5),(2, 3),(2, 4),(4, 5),(7, 8),(8, 9),(7, 9))\n",
    "\n",
    "max_out_degree(graph, 11)\n",
    "print()         \n",
    "\n",
    "graph = ((3, 6, 10),(6, 7, 5),(6, 8, 5),(6, 9, 5),(9, 10, 40),(0, 3, 10),(2, 5, 20),(0, 4, 5),(0, 5, 15),(1, 4, 15),(1, 5, 10),(2, 3, 10),(2, 4, 15),(4, 5, 25),(7, 8, 10),(8, 9, 5),(7, 9,20))\n",
    "max_out_weight(graph, 11)"
   ]
  },
  {
   "cell_type": "code",
   "execution_count": 65,
   "metadata": {},
   "outputs": [
    {
     "name": "stdout",
     "output_type": "stream",
     "text": [
      "[[ 0  0  0 10  5 15  0  0  0  0  0]\n",
      " [ 0  0  0  0 15 10  0  0  0  0  0]\n",
      " [ 0  0  0 10 15 20  0  0  0  0  0]\n",
      " [10  0 10  0  0  0 10  0  0  0  0]\n",
      " [ 5 15 15  0  0 25  0  0  0  0  0]\n",
      " [15 10 20  0 25  0  0  0  0  0  0]\n",
      " [ 0  0  0 10  0  0  0  5  5  5  0]\n",
      " [ 0  0  0  0  0  0  5  0 10 20  0]\n",
      " [ 0  0  0  0  0  0  5 10  0  5  0]\n",
      " [ 0  0  0  0  0  0  5 20  5  0 40]\n",
      " [ 0  0  0  0  0  0  0  0  0 40  0]]\n"
     ]
    }
   ],
   "source": [
    "# task 04\n",
    "def direct_to_undirect(items, num):\n",
    "    arr = tuple_to_direct_weight_matrix(items, num)\n",
    "    new = np.zeros((len(arr),len(arr)), int)\n",
    "    for row in range(len(arr)):\n",
    "        for col in range(len(arr)):\n",
    "            if new[col][row] == 0:\n",
    "                new[row][col] = arr[row][col]\n",
    "                new[col][row] = arr[row][col]\n",
    "    return new\n",
    "\n",
    "\n",
    "graph = ((3, 6, 10),(6, 7, 5),(6, 8, 5),(6, 9, 5),(9, 10, 40),(0, 3, 10),(2, 5, 20),(0, 4, 5),(0, 5, 15),(1, 4, 15),(1, 5, 10),(2, 3, 10),(2, 4, 15),(4, 5, 25),(7, 8, 10),(8, 9, 5),(7, 9,20))\n",
    "print(direct_to_undirect(graph, 11))"
   ]
  },
  {
   "cell_type": "markdown",
   "metadata": {},
   "source": [
    "adjacency list"
   ]
  },
  {
   "cell_type": "code",
   "execution_count": 66,
   "metadata": {},
   "outputs": [],
   "source": [
    "def max_edges_2(arr):\n",
    "    head = None\n",
    "    tail = None\n",
    "    max = 0\n",
    "    for i in range(len(arr)):\n",
    "        if arr[i] != 0:\n",
    "            temp = edge_sum(arr[i])\n",
    "            if temp > max:\n",
    "                head = Node(i)\n",
    "                tail = head\n",
    "                max = temp\n",
    "\n",
    "            elif temp == max:\n",
    "                tail.next = Node(i)\n",
    "                tail = tail.next \n",
    "\n",
    "    return head, max\n",
    "    \n",
    "\n",
    "def edge_sum(head):\n",
    "    if not head:\n",
    "        return 0\n",
    "    return head.weight + edge_sum(head.next)\n",
    "\n",
    "def tuple_to_array(items, num):\n",
    "    new = np.zeros(num,dtype=object)\n",
    "    for i in items:\n",
    "\n",
    "        if new[i[0]] == 0:\n",
    "            new[i[0]] = Node(i[1])\n",
    "        else:\n",
    "            current = Node(i[1])\n",
    "            current.next = new[i[0]]\n",
    "            new[i[0]] = current\n",
    "\n",
    "        if new[i[1]] == 0:\n",
    "            new[i[1]] = Node(i[0])\n",
    "        else:\n",
    "            current = Node(i[0])\n",
    "            current.next = new[i[1]]\n",
    "            new[i[1]] = current\n",
    "\n",
    "    return new \n",
    "\n",
    "def tuple_to_weight_array(items, num):\n",
    "    new = np.zeros(num,dtype=object)\n",
    "    for i in items:\n",
    "        \n",
    "\n",
    "        if new[i[0]] == 0:\n",
    "            new[i[0]] = Node(i[1], i[2])\n",
    "        else:\n",
    "            current = Node(i[1], i[2]) \n",
    "            current.next = new[i[0]]\n",
    "            new[i[0]] = current\n",
    "\n",
    "        if new[i[1]] == 0:\n",
    "            new[i[1]] = Node(i[0], i[2])\n",
    "        else:\n",
    "            current = Node(i[0], i[2])\n",
    "            current.next = new[i[1]]\n",
    "            new[i[1]] = current\n",
    "\n",
    "    return new\n",
    "\n",
    "def tuple_to_direct_array(items, num):\n",
    "    new = np.zeros(num,dtype=object)\n",
    "    for i in items:\n",
    "        if new[i[0]] == 0:\n",
    "            new[i[0]] = Node(i[1])\n",
    "        else:\n",
    "            current = Node(i[1])\n",
    "            current.next = new[i[0]]\n",
    "            new[i[0]] = current\n",
    "    return new\n",
    "\n",
    "def tuple_to_direct_weight_array(items, num):\n",
    "    new = np.zeros(num,dtype=object)\n",
    "    for i in items:\n",
    "        if new[i[0]] == 0:\n",
    "            new[i[0]] = Node(i[1],i[2])\n",
    "        else:\n",
    "            current = Node(i[1],i[2])\n",
    "            current.next = new[i[0]]\n",
    "            new[i[0]] = current\n",
    "    return new"
   ]
  },
  {
   "cell_type": "code",
   "execution_count": 67,
   "metadata": {},
   "outputs": [
    {
     "name": "stdout",
     "output_type": "stream",
     "text": [
      "Vertex with max degree: 4 5 6 9 \n",
      "max degree  4\n"
     ]
    }
   ],
   "source": [
    "# task 01\n",
    "def max_degre_2(items, num):\n",
    "    arr = tuple_to_array(items, num)\n",
    "    temp = max_edges_2(arr)\n",
    "    head = temp[0] \n",
    "    print(\"Vertex with max degree: \",end='')\n",
    "    while head:\n",
    "        print (head.val,end=' ')\n",
    "        head = head.next\n",
    "    print()\n",
    "    print(\"max degree \",temp[1]) \n",
    "\n",
    "\n",
    "graph = ((3, 6),(6, 7),(6, 8),(6, 9),(9, 10),(0, 3),(2, 5),(0, 4),(0, 5),(1, 4),(1, 5),(2, 3),(2, 4),(4, 5),(7, 8),(8, 9),(7, 9))\n",
    "max_degre_2(graph, 11)"
   ]
  },
  {
   "cell_type": "code",
   "execution_count": 68,
   "metadata": {},
   "outputs": [
    {
     "name": "stdout",
     "output_type": "stream",
     "text": [
      "Vertex with max edge weight: 5 9 \n",
      "max edge weight  70\n"
     ]
    }
   ],
   "source": [
    "# task 02\n",
    "def max_weight_2(items, num):\n",
    "    arr = tuple_to_weight_array(items, num)\n",
    "    temp = max_edges_2(arr)\n",
    "    head = temp[0]\n",
    "    print(\"Vertex with max edge weight: \",end='')\n",
    "    while head:\n",
    "        print (head.val,end=' ')\n",
    "        head = head.next\n",
    "    print()\n",
    "    print(\"max edge weight \",temp[1])\n",
    "\n",
    "graph = ((3, 6, 10),(6, 7, 5),(6, 8, 5),(6, 9, 5),(9, 10, 40),(0, 3, 10),(2, 5, 20),(0, 4, 5),(0, 5, 15),(1, 4, 15),(1, 5, 10),(2, 3, 10),(2, 4, 15),(4, 5, 25),(7, 8, 10),(8, 9, 5),(7, 9,20))\n",
    "max_weight_2(graph, 11)"
   ]
  },
  {
   "cell_type": "code",
   "execution_count": 69,
   "metadata": {},
   "outputs": [
    {
     "name": "stdout",
     "output_type": "stream",
     "text": [
      "Vertex with max out degree: 0 2 6 \n",
      "max out degree  3\n",
      "\n",
      "Vertex with max out weight: 2 \n",
      "max out weight  45\n"
     ]
    }
   ],
   "source": [
    "# task 03\n",
    "# sub task 01\n",
    "def max_out_degree_2(items, num):\n",
    "    arr = tuple_to_direct_array(items, num)\n",
    "    temp = max_edges_2(arr)\n",
    "    head = temp[0]\n",
    "    print(\"Vertex with max out degree: \",end='')\n",
    "    while head:\n",
    "        print (head.val,end=' ')\n",
    "        head = head.next\n",
    "    print()\n",
    "    print(\"max out degree \",temp[1])\n",
    "    \n",
    "# sub task 02\n",
    "def max_out_weight_2(items, num):\n",
    "    arr = tuple_to_direct_weight_array(items,num)\n",
    "    temp = max_edges_2(arr)\n",
    "    head = temp[0]\n",
    "    print(\"Vertex with max out weight: \",end='')\n",
    "    while head:\n",
    "        print (head.val,end=' ')\n",
    "        head = head.next\n",
    "    print()\n",
    "    print(\"max out weight \",temp[1])\n",
    "\n",
    "graph = ((3, 6),(6, 7),(6, 8),(6, 9),(9, 10),(0, 3),(2, 5),(0, 4),(0, 5),(1, 4),(1, 5),(2, 3),(2, 4),(4, 5),(7, 8),(8, 9),(7, 9))\n",
    "\n",
    "max_out_degree_2(graph, 11)\n",
    "print()         \n",
    "\n",
    "graph = ((3, 6, 10),(6, 7, 5),(6, 8, 5),(6, 9, 5),(9, 10, 40),(0, 3, 10),(2, 5, 20),(0, 4, 5),(0, 5, 15),(1, 4, 15),(1, 5, 10),(2, 3, 10),(2, 4, 15),(4, 5, 25),(7, 8, 10),(8, 9, 5),(7, 9,20))\n",
    "max_out_weight_2(graph, 11)"
   ]
  },
  {
   "cell_type": "code",
   "execution_count": 74,
   "metadata": {},
   "outputs": [
    {
     "name": "stdout",
     "output_type": "stream",
     "text": [
      "Idx  0--->3->4->5->\n",
      "Idx  1--->4->5->\n",
      "Idx  2--->5->3->4->\n",
      "Idx  3--->6->2->0->\n",
      "Idx  4--->5->2->1->0->\n",
      "Idx  5--->4->2->1->0->\n",
      "Idx  6--->7->8->9->3->\n",
      "Idx  7--->8->9->6->\n",
      "Idx  8--->9->7->6->\n",
      "Idx  9--->10->8->7->6->\n",
      "Idx  10--->9->\n"
     ]
    }
   ],
   "source": [
    "def direct_to_undirect_2(items, num):\n",
    "    arr = tuple_to_direct_weight_array(items, num)\n",
    "    new = np.zeros(num, dtype= object)\n",
    "\n",
    "    for i in range(len(arr)):\n",
    "\n",
    "        if arr[i] != 0:\n",
    "            head = arr[i]\n",
    "            while head:\n",
    "\n",
    "                if new[i] == 0:\n",
    "                    new[i] = Node(head.val, head.weight)\n",
    "                else:\n",
    "                    current = Node(head.val, head.weight)\n",
    "                    current.next = new[i]\n",
    "                    new[i] = current\n",
    "                \n",
    "                if new[head.val] == 0:\n",
    "                    new[head.val] = Node(i, head.weight)\n",
    "                else:\n",
    "                    current = Node(i, head.weight)\n",
    "                    current.next = new[head.val]\n",
    "                    new[head.val] = current\n",
    "                \n",
    "                head = head.next\n",
    "\n",
    "    return new\n",
    "\n",
    "graph = ((3, 6, 10),(6, 7, 5),(6, 8, 5),(6, 9, 5),(9, 10, 40),(0, 3, 10),(2, 5, 20),(0, 4, 5),(0, 5, 15),(1, 4, 15),(1, 5, 10),(2, 3, 10),(2, 4, 15),(4, 5, 25),(7, 8, 10),(8, 9, 5),(7, 9,20))\n",
    "new = direct_to_undirect_2(graph, 11)\n",
    "for i in range(len(new)):\n",
    "    print(\"Idx \",i,end=\"--->\")\n",
    "    head = new[i]\n",
    "    if head == 0:\n",
    "        pass\n",
    "    else:\n",
    "        while head:\n",
    "            print(head.val,end=\"->\")\n",
    "            head = head.next\n",
    "    print()"
   ]
  }
 ],
 "metadata": {
  "kernelspec": {
   "display_name": "Python 3",
   "language": "python",
   "name": "python3"
  },
  "language_info": {
   "codemirror_mode": {
    "name": "ipython",
    "version": 3
   },
   "file_extension": ".py",
   "mimetype": "text/x-python",
   "name": "python",
   "nbconvert_exporter": "python",
   "pygments_lexer": "ipython3",
   "version": "3.12.0"
  }
 },
 "nbformat": 4,
 "nbformat_minor": 2
}
