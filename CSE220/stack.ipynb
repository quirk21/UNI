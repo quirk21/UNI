{
 "cells": [
  {
   "cell_type": "code",
   "execution_count": 7,
   "metadata": {},
   "outputs": [],
   "source": [
    "class Node:\n",
    "  def __init__(self,elem=None,next=None):\n",
    "    self.elem = elem\n",
    "    self.next = next\n",
    "\n",
    "class Stack:\n",
    "  def __init__(self):\n",
    "    self.__top = None\n",
    "\n",
    "  def push(self,elem):\n",
    "    nn = Node(elem,self.__top)\n",
    "    self.__top = nn\n",
    "\n",
    "  def pop(self):\n",
    "    if self.__top == None:\n",
    "      #print('Stack Underflow')\n",
    "      return None\n",
    "    e = self.__top\n",
    "    self.__top = self.__top.next\n",
    "    return e.elem\n",
    "\n",
    "  def peek(self):\n",
    "    if self.__top == None:\n",
    "      #print('Stack Underflow')\n",
    "      return None\n",
    "    return self.__top.elem\n",
    "\n",
    "  def isEmpty(self):\n",
    "    return self.__top == None\n"
   ]
  },
  {
   "cell_type": "code",
   "execution_count": 2,
   "metadata": {},
   "outputs": [],
   "source": [
    "def print_stack(st):\n",
    "  if st.isEmpty():\n",
    "    return\n",
    "  p = st.pop()\n",
    "  print('|',p,end=' ')\n",
    "  if p<10:\n",
    "    print(' |')\n",
    "  else:\n",
    "    print('|')\n",
    "  #print('------')\n",
    "  print_stack(st)\n",
    "  st.push(p)"
   ]
  },
  {
   "cell_type": "code",
   "execution_count": 3,
   "metadata": {},
   "outputs": [
    {
     "name": "stdout",
     "output_type": "stream",
     "text": [
      "| 7  |\n",
      "| 8  |\n",
      "| 5  |\n",
      "| 6  |\n",
      "| 3  |\n",
      "| 4  |\n",
      "| 1  |\n",
      "| 2  |\n",
      "========\n",
      "| 7  |\n",
      "| 5  |\n",
      "| 6  |\n",
      "| 3  |\n",
      "| 4  |\n",
      "| 1  |\n",
      "| 2  |\n"
     ]
    }
   ],
   "source": [
    "# adj swap\n",
    "def adj_swap(st):\n",
    "    new = Stack()\n",
    "    while not st.isEmpty():\n",
    "        new.push (st.pop())\n",
    "    \n",
    "    while not new.isEmpty():\n",
    "        temp1 = new.pop()\n",
    "        temp2 = new.pop()\n",
    "        if temp2 != None:           \n",
    "            st.push(temp2)\n",
    "            st.push(temp1)\n",
    "        else:\n",
    "            st.push(temp1)    \n",
    "    return st\n",
    "\n",
    "\n",
    "st = Stack()\n",
    "st.push(1),st.push(2),st.push(3),st.push(4),st.push(5),st.push(6),st.push(7),st.push(8)\n",
    "print_stack(adj_swap(st))\n",
    "print(\"========\")\n",
    "\n",
    "st = Stack()\n",
    "st.push(1),st.push(2),st.push(3),st.push(4),st.push(5),st.push(6),st.push(7)\n",
    "print_stack(adj_swap(st))"
   ]
  },
  {
   "cell_type": "code",
   "execution_count": 21,
   "metadata": {},
   "outputs": [
    {
     "name": "stdout",
     "output_type": "stream",
     "text": [
      "[\n",
      "(\n",
      "d\n",
      "c\n",
      ")\n",
      "False\n",
      "=======\n",
      "]\n",
      "False\n"
     ]
    }
   ],
   "source": [
    "# parenthesis matching\n",
    "def match_parenthesis(st):\n",
    "    sign_stack = Stack()\n",
    "    while not st.isEmpty():\n",
    "        temp = st.pop()\n",
    "        print (temp)\n",
    "        if temp in \"{([\":\n",
    "            sign_stack.push(temp)\n",
    "        elif temp in \")]}\":\n",
    "            if sign_stack.peek() == temp:\n",
    "                sign_stack.pop()\n",
    "            else:\n",
    "                return False\n",
    "    \n",
    "    return  sign_stack.isEmpty()\n",
    "\n",
    "\n",
    "\n",
    "st = Stack()\n",
    "st.push(']')\n",
    "st.push(')')\n",
    "st.push('a')\n",
    "st.push('b')\n",
    "st.push('(')\n",
    "st.push(')')\n",
    "st.push('c')\n",
    "st.push('d')\n",
    "st.push('(')\n",
    "st.push('[')\n",
    "print(match_parenthesis(st))\n",
    "print(\"=======\")\n",
    "st = Stack()\n",
    "st.push('{')\n",
    "st.push('(')\n",
    "st.push('a')\n",
    "st.push('b')\n",
    "st.push(')')\n",
    "st.push('(')\n",
    "st.push('c')\n",
    "st.push('d')\n",
    "st.push(')')\n",
    "st.push(']')\n",
    "print(match_parenthesis(st))"
   ]
  }
 ],
 "metadata": {
  "kernelspec": {
   "display_name": "Python 3",
   "language": "python",
   "name": "python3"
  },
  "language_info": {
   "codemirror_mode": {
    "name": "ipython",
    "version": 3
   },
   "file_extension": ".py",
   "mimetype": "text/x-python",
   "name": "python",
   "nbconvert_exporter": "python",
   "pygments_lexer": "ipython3",
   "version": "3.12.0"
  }
 },
 "nbformat": 4,
 "nbformat_minor": 2
}
